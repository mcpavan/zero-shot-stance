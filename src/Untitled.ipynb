{
 "cells": [
  {
   "cell_type": "code",
   "execution_count": 2,
   "id": "530cf6e6",
   "metadata": {
    "ExecuteTime": {
     "end_time": "2022-01-30T20:08:08.602161Z",
     "start_time": "2022-01-30T20:07:30.065459Z"
    }
   },
   "outputs": [
    {
     "name": "stdout",
     "output_type": "stream",
     "text": [
      "preprocessing data ../data/VAST/vast_train.csv ...\n",
      "processing BERT\n",
      "...finished pre-processing for BERT\n",
      "preprocessing data ../data/VAST/vast_dev.csv ...\n",
      "processing BERT\n",
      "...finished pre-processing for BERT\n",
      "Using cuda?: True\n",
      "[tganet_t7] epoch 0\n"
     ]
    },
    {
     "name": "stderr",
     "output_type": "stream",
     "text": [
      "Truncation was not explicitly activated but `max_length` is provided a specific value, please use `truncation=True` to explicitly truncate examples to max length. Defaulting to 'longest_first' truncation strategy. If you encode pairs of sequences (GLUE-style) with the tokenizer you can select this strategy more precisely by providing a specific strategy to `truncation`.\n",
      "D:\\Anaconda3\\envs\\stance_tf2\\lib\\site-packages\\transformers\\tokenization_utils_base.py:2111: FutureWarning: The `pad_to_max_length` argument is deprecated and will be removed in a future version, use `padding=True` or `padding='longest'` to pad to the longest sequence in the batch, or use `padding='max_length'` to pad to a max length. In this case, you can give a specific length with `max_length` (e.g. `max_length=45`) or leave max_length to None to pad to the maximal input size of the model (e.g. 512 for Bert).\n",
      "  FutureWarning,\n",
      "Truncation was not explicitly activated but `max_length` is provided a specific value, please use `truncation=True` to explicitly truncate examples to max length. Defaulting to 'longest_first' truncation strategy. If you encode pairs of sequences (GLUE-style) with the tokenizer you can select this strategy more precisely by providing a specific strategy to `truncation`.\n",
      "Some weights of the model checkpoint at bert-base-uncased were not used when initializing BertModel: ['cls.seq_relationship.bias', 'cls.predictions.transform.LayerNorm.bias', 'cls.predictions.transform.LayerNorm.weight', 'cls.predictions.transform.dense.weight', 'cls.seq_relationship.weight', 'cls.predictions.decoder.weight', 'cls.predictions.transform.dense.bias', 'cls.predictions.bias']\n",
      "- This IS expected if you are initializing BertModel from the checkpoint of a model trained on another task or with another architecture (e.g. initializing a BertForSequenceClassification model from a BertForPreTraining model).\n",
      "- This IS NOT expected if you are initializing BertModel from the checkpoint of a model that you expect to be exactly identical (initializing a BertForSequenceClassification model from a BertForSequenceClassification model).\n",
      "Traceback (most recent call last):\n",
      "  File \"train_model.py\", line 329, in <module>\n",
      "    num_warm=args['num_warm'], is_bert=('bert' in config))\n",
      "  File \"train_model.py\", line 31, in train\n",
      "    model_handler.train_step()\n",
      "  File \"./modeling\\model_utils.py\", line 248, in train_step\n",
      "    y_pred, labels = self.get_pred_with_grad(sample_batched)\n",
      "  File \"./modeling\\model_utils.py\", line 427, in get_pred_with_grad\n",
      "    embed_args = self.embed_model(**args)\n",
      "  File \"D:\\Anaconda3\\envs\\stance_tf2\\lib\\site-packages\\torch\\nn\\modules\\module.py\", line 1051, in _call_impl\n",
      "    return forward_call(*input, **kwargs)\n",
      "  File \"./modeling\\input_models.py\", line 174, in forward\n",
      "    full_masks = item_masks.unsqueeze(2).repeat(1, 1, last_hidden.shape[2])\n",
      "AttributeError: 'str' object has no attribute 'shape'\n"
     ]
    }
   ],
   "source": [
    "! python train_model.py -s ../config/config-tganet.txt -i ../data/VAST/vast_train.csv -d ../data/VAST/vast_dev.csv -e 1 -p 0 -k \"f-0_macro\""
   ]
  },
  {
   "cell_type": "code",
   "execution_count": 1,
   "id": "559b180c",
   "metadata": {
    "ExecuteTime": {
     "end_time": "2022-01-31T02:42:44.924479Z",
     "start_time": "2022-01-31T02:42:39.891636Z"
    }
   },
   "outputs": [],
   "source": [
    "import pandas as pd"
   ]
  },
  {
   "cell_type": "code",
   "execution_count": 2,
   "id": "14b753e3",
   "metadata": {
    "ExecuteTime": {
     "end_time": "2022-01-31T02:43:01.422063Z",
     "start_time": "2022-01-31T02:43:01.328055Z"
    }
   },
   "outputs": [],
   "source": [
    "df = pd.read_csv(\"../data/VAST/vast_dev.csv\")"
   ]
  },
  {
   "cell_type": "code",
   "execution_count": 7,
   "id": "4a28cf3f",
   "metadata": {
    "ExecuteTime": {
     "end_time": "2022-01-31T02:58:08.294517Z",
     "start_time": "2022-01-31T02:58:08.279940Z"
    }
   },
   "outputs": [
    {
     "data": {
      "text/plain": [
       "Index(['author', 'post', 'ori_topic', 'ori_id', 'new_topic', 'label',\n",
       "       'type_idx', 'new_id', 'arc_id', 'text', 'pos_text', 'text_s', 'topic',\n",
       "       'topic_str', 'seen?', 'contains_topic?'],\n",
       "      dtype='object')"
      ]
     },
     "execution_count": 7,
     "metadata": {},
     "output_type": "execute_result"
    }
   ],
   "source": [
    "df.columns"
   ]
  },
  {
   "cell_type": "code",
   "execution_count": 5,
   "id": "fd903488",
   "metadata": {
    "ExecuteTime": {
     "end_time": "2022-01-31T02:57:56.063611Z",
     "start_time": "2022-01-31T02:57:56.049068Z"
    }
   },
   "outputs": [
    {
     "data": {
      "text/html": [
       "<div>\n",
       "<style scoped>\n",
       "    .dataframe tbody tr th:only-of-type {\n",
       "        vertical-align: middle;\n",
       "    }\n",
       "\n",
       "    .dataframe tbody tr th {\n",
       "        vertical-align: top;\n",
       "    }\n",
       "\n",
       "    .dataframe thead th {\n",
       "        text-align: right;\n",
       "    }\n",
       "</style>\n",
       "<table border=\"1\" class=\"dataframe\">\n",
       "  <thead>\n",
       "    <tr style=\"text-align: right;\">\n",
       "      <th></th>\n",
       "      <th>text</th>\n",
       "      <th>topic</th>\n",
       "      <th>text_s</th>\n",
       "      <th>label</th>\n",
       "    </tr>\n",
       "  </thead>\n",
       "  <tbody>\n",
       "    <tr>\n",
       "      <th>0</th>\n",
       "      <td>[[\"comments\", \"improve\", \"quality\", \"work\", \"w...</td>\n",
       "      <td>[\"comment\", \"section\"]</td>\n",
       "      <td>comments improve quality work writers learn re...</td>\n",
       "      <td>0</td>\n",
       "    </tr>\n",
       "    <tr>\n",
       "      <th>1</th>\n",
       "      <td>[[\"zero\", \"personal\", \"accountability\", \"today...</td>\n",
       "      <td>[\"obesity\"]</td>\n",
       "      <td>zero personal accountability today 's society....</td>\n",
       "      <td>0</td>\n",
       "    </tr>\n",
       "    <tr>\n",
       "      <th>2</th>\n",
       "      <td>[[\"zero\", \"personal\", \"accountability\", \"today...</td>\n",
       "      <td>[\"personal\", \"health\"]</td>\n",
       "      <td>zero personal accountability today 's society....</td>\n",
       "      <td>1</td>\n",
       "    </tr>\n",
       "    <tr>\n",
       "      <th>3</th>\n",
       "      <td>[[\"zero\", \"personal\", \"accountability\", \"today...</td>\n",
       "      <td>[\"weight\", \"gain\"]</td>\n",
       "      <td>zero personal accountability today 's society....</td>\n",
       "      <td>0</td>\n",
       "    </tr>\n",
       "    <tr>\n",
       "      <th>4</th>\n",
       "      <td>[[\"look\", \"issues\", \"debateed\"], [\"need\", \"muc...</td>\n",
       "      <td>[\"library\"]</td>\n",
       "      <td>look issues debateed. need much brick mortaror...</td>\n",
       "      <td>0</td>\n",
       "    </tr>\n",
       "    <tr>\n",
       "      <th>...</th>\n",
       "      <td>...</td>\n",
       "      <td>...</td>\n",
       "      <td>...</td>\n",
       "      <td>...</td>\n",
       "    </tr>\n",
       "    <tr>\n",
       "      <th>2057</th>\n",
       "      <td>[[\"privatization\", \"state\", \"asserts\", \"means\"...</td>\n",
       "      <td>[\"research\", \"paper\"]</td>\n",
       "      <td>privatization state asserts means german busin...</td>\n",
       "      <td>2</td>\n",
       "    </tr>\n",
       "    <tr>\n",
       "      <th>2058</th>\n",
       "      <td>[[\"privatization\", \"state\", \"asserts\", \"means\"...</td>\n",
       "      <td>[\"library\"]</td>\n",
       "      <td>privatization state asserts means german busin...</td>\n",
       "      <td>2</td>\n",
       "    </tr>\n",
       "    <tr>\n",
       "      <th>2059</th>\n",
       "      <td>[[\"pathway\", \"career\", \"medicine\", \"designed\",...</td>\n",
       "      <td>[\"birthright\", \"citizenship\"]</td>\n",
       "      <td>pathway career medicine designed benefit speci...</td>\n",
       "      <td>2</td>\n",
       "    </tr>\n",
       "    <tr>\n",
       "      <th>2060</th>\n",
       "      <td>[[\"pathway\", \"career\", \"medicine\", \"designed\",...</td>\n",
       "      <td>[\"comment\", \"section\"]</td>\n",
       "      <td>pathway career medicine designed benefit speci...</td>\n",
       "      <td>2</td>\n",
       "    </tr>\n",
       "    <tr>\n",
       "      <th>2061</th>\n",
       "      <td>[[\"aca\", \"able\", \"generate\"], [\"far\", \"perfect...</td>\n",
       "      <td>[\"college\", \"student\"]</td>\n",
       "      <td>aca able generate. far perfect single payer wo...</td>\n",
       "      <td>2</td>\n",
       "    </tr>\n",
       "  </tbody>\n",
       "</table>\n",
       "<p>2062 rows × 4 columns</p>\n",
       "</div>"
      ],
      "text/plain": [
       "                                                   text  \\\n",
       "0     [[\"comments\", \"improve\", \"quality\", \"work\", \"w...   \n",
       "1     [[\"zero\", \"personal\", \"accountability\", \"today...   \n",
       "2     [[\"zero\", \"personal\", \"accountability\", \"today...   \n",
       "3     [[\"zero\", \"personal\", \"accountability\", \"today...   \n",
       "4     [[\"look\", \"issues\", \"debateed\"], [\"need\", \"muc...   \n",
       "...                                                 ...   \n",
       "2057  [[\"privatization\", \"state\", \"asserts\", \"means\"...   \n",
       "2058  [[\"privatization\", \"state\", \"asserts\", \"means\"...   \n",
       "2059  [[\"pathway\", \"career\", \"medicine\", \"designed\",...   \n",
       "2060  [[\"pathway\", \"career\", \"medicine\", \"designed\",...   \n",
       "2061  [[\"aca\", \"able\", \"generate\"], [\"far\", \"perfect...   \n",
       "\n",
       "                              topic  \\\n",
       "0            [\"comment\", \"section\"]   \n",
       "1                       [\"obesity\"]   \n",
       "2            [\"personal\", \"health\"]   \n",
       "3                [\"weight\", \"gain\"]   \n",
       "4                       [\"library\"]   \n",
       "...                             ...   \n",
       "2057          [\"research\", \"paper\"]   \n",
       "2058                    [\"library\"]   \n",
       "2059  [\"birthright\", \"citizenship\"]   \n",
       "2060         [\"comment\", \"section\"]   \n",
       "2061         [\"college\", \"student\"]   \n",
       "\n",
       "                                                 text_s  label  \n",
       "0     comments improve quality work writers learn re...      0  \n",
       "1     zero personal accountability today 's society....      0  \n",
       "2     zero personal accountability today 's society....      1  \n",
       "3     zero personal accountability today 's society....      0  \n",
       "4     look issues debateed. need much brick mortaror...      0  \n",
       "...                                                 ...    ...  \n",
       "2057  privatization state asserts means german busin...      2  \n",
       "2058  privatization state asserts means german busin...      2  \n",
       "2059  pathway career medicine designed benefit speci...      2  \n",
       "2060  pathway career medicine designed benefit speci...      2  \n",
       "2061  aca able generate. far perfect single payer wo...      2  \n",
       "\n",
       "[2062 rows x 4 columns]"
      ]
     },
     "execution_count": 5,
     "metadata": {},
     "output_type": "execute_result"
    }
   ],
   "source": [
    "df[[\"text\", \"topic\", \"text_s\", \"label\"]]"
   ]
  },
  {
   "cell_type": "code",
   "execution_count": 21,
   "id": "bb97de3d",
   "metadata": {
    "ExecuteTime": {
     "end_time": "2022-01-31T03:02:09.784505Z",
     "start_time": "2022-01-31T03:02:09.778853Z"
    }
   },
   "outputs": [
    {
     "data": {
      "text/plain": [
       "'[[\"comments\", \"improve\", \"quality\", \"work\", \"writers\", \"learn\", \"readers\", \"...\", \"david\", \"brooks\", \"admitted\", \"deal\", \"readers\", \"comments\"], [\"gresham\", \"law\", \"applies\", \"comment\", \"sections\", \"various\", \"media\", \"whereby\", \"time\", \"low\", \"quality\", \"offensive\", \"comments\", \"drive\", \"away\", \"high\", \"quality\", \"commentators\", \"unless\", \"media\", \"works\", \"hard\", \"protect\", \"quality\", \"comment\", \"section\"], [\"nyt\", \"one\", \"successfully\"], [\"majority\", \"comment\", \"sections\", \"deteriorate\", \"equivalent\", \"debased\", \"currencies\"]]'"
      ]
     },
     "execution_count": 21,
     "metadata": {},
     "output_type": "execute_result"
    }
   ],
   "source": [
    "df.loc[0, \"text\"]"
   ]
  },
  {
   "cell_type": "code",
   "execution_count": 23,
   "id": "7ed25448",
   "metadata": {
    "ExecuteTime": {
     "end_time": "2022-01-31T03:02:52.390937Z",
     "start_time": "2022-01-31T03:02:52.375579Z"
    }
   },
   "outputs": [
    {
     "data": {
      "text/plain": [
       "'comments improve quality work writers learn readers ... david brooks admitted deal readers comments. gresham law applies comment sections various media whereby time low quality offensive comments drive away high quality commentators unless media works hard protect quality comment section. nyt one successfully. majority comment sections deteriorate equivalent debased currencies'"
      ]
     },
     "execution_count": 23,
     "metadata": {},
     "output_type": "execute_result"
    }
   ],
   "source": [
    "df.loc[0, \"text_s\"]"
   ]
  },
  {
   "cell_type": "code",
   "execution_count": 26,
   "id": "1365cc52",
   "metadata": {
    "ExecuteTime": {
     "end_time": "2022-01-31T03:03:36.413988Z",
     "start_time": "2022-01-31T03:03:36.404012Z"
    }
   },
   "outputs": [
    {
     "data": {
      "text/plain": [
       "'The comments can \"improve the quality of work as writers learn more about their readers...\" But not David Brooks who has admitted that he cannot deal with his readers\\' comments. There is a \"Gresham Law\" that applies to comment sections of various media whereby, over time, low quality or offensive comments drive away high quality commentators unless the media works hard to protect the quality of their comment section. The NYT is one of the few that successfully does it. The majority of comment sections deteriorate into the equivalent of debased currencies.'"
      ]
     },
     "execution_count": 26,
     "metadata": {},
     "output_type": "execute_result"
    }
   ],
   "source": [
    "df.loc[0, \"post\"]"
   ]
  },
  {
   "cell_type": "code",
   "execution_count": 27,
   "id": "d0d6da4b",
   "metadata": {
    "ExecuteTime": {
     "end_time": "2022-01-31T03:04:32.940189Z",
     "start_time": "2022-01-31T03:04:32.905805Z"
    }
   },
   "outputs": [
    {
     "data": {
      "text/html": [
       "<div>\n",
       "<style scoped>\n",
       "    .dataframe tbody tr th:only-of-type {\n",
       "        vertical-align: middle;\n",
       "    }\n",
       "\n",
       "    .dataframe tbody tr th {\n",
       "        vertical-align: top;\n",
       "    }\n",
       "\n",
       "    .dataframe thead th {\n",
       "        text-align: right;\n",
       "    }\n",
       "</style>\n",
       "<table border=\"1\" class=\"dataframe\">\n",
       "  <thead>\n",
       "    <tr style=\"text-align: right;\">\n",
       "      <th></th>\n",
       "      <th>author</th>\n",
       "      <th>post</th>\n",
       "      <th>ori_topic</th>\n",
       "      <th>ori_id</th>\n",
       "      <th>new_topic</th>\n",
       "      <th>label</th>\n",
       "      <th>type_idx</th>\n",
       "      <th>new_id</th>\n",
       "      <th>arc_id</th>\n",
       "      <th>text</th>\n",
       "      <th>pos_text</th>\n",
       "      <th>text_s</th>\n",
       "      <th>topic</th>\n",
       "      <th>topic_str</th>\n",
       "      <th>seen?</th>\n",
       "      <th>contains_topic?</th>\n",
       "    </tr>\n",
       "  </thead>\n",
       "  <tbody>\n",
       "    <tr>\n",
       "      <th>0</th>\n",
       "      <td>Leonard Miller</td>\n",
       "      <td>The comments can \"improve the quality of work ...</td>\n",
       "      <td>comment sections</td>\n",
       "      <td>A2745-P</td>\n",
       "      <td>comment sections</td>\n",
       "      <td>0</td>\n",
       "      <td>1</td>\n",
       "      <td>3347</td>\n",
       "      <td>18247680</td>\n",
       "      <td>[[\"comments\", \"improve\", \"quality\", \"work\", \"w...</td>\n",
       "      <td>[[\"NNS\", \"VB\", \"NN\", \"NN\", \"NNS\", \"VBP\", \"NNS\"...</td>\n",
       "      <td>comments improve quality work writers learn re...</td>\n",
       "      <td>[\"comment\", \"section\"]</td>\n",
       "      <td>comment section</td>\n",
       "      <td>1</td>\n",
       "      <td>1</td>\n",
       "    </tr>\n",
       "    <tr>\n",
       "      <th>1</th>\n",
       "      <td>Sam M.</td>\n",
       "      <td>Is there zero personal accountability in today...</td>\n",
       "      <td>legislation</td>\n",
       "      <td>A5038-P</td>\n",
       "      <td>obesity</td>\n",
       "      <td>0</td>\n",
       "      <td>2</td>\n",
       "      <td>16667</td>\n",
       "      <td>4964352</td>\n",
       "      <td>[[\"zero\", \"personal\", \"accountability\", \"today...</td>\n",
       "      <td>[[\"CD\", \"JJ\", \"NN\", \"NN\", \"POS\", \"NN\"], [\"NN\",...</td>\n",
       "      <td>zero personal accountability today 's society....</td>\n",
       "      <td>[\"obesity\"]</td>\n",
       "      <td>obesity</td>\n",
       "      <td>1</td>\n",
       "      <td>0</td>\n",
       "    </tr>\n",
       "    <tr>\n",
       "      <th>2</th>\n",
       "      <td>Sam M.</td>\n",
       "      <td>Is there zero personal accountability in today...</td>\n",
       "      <td>legislation</td>\n",
       "      <td>A5038-P</td>\n",
       "      <td>personal health</td>\n",
       "      <td>1</td>\n",
       "      <td>2</td>\n",
       "      <td>16668</td>\n",
       "      <td>4964352</td>\n",
       "      <td>[[\"zero\", \"personal\", \"accountability\", \"today...</td>\n",
       "      <td>[[\"CD\", \"JJ\", \"NN\", \"NN\", \"POS\", \"NN\"], [\"NN\",...</td>\n",
       "      <td>zero personal accountability today 's society....</td>\n",
       "      <td>[\"personal\", \"health\"]</td>\n",
       "      <td>personal health</td>\n",
       "      <td>0</td>\n",
       "      <td>0</td>\n",
       "    </tr>\n",
       "    <tr>\n",
       "      <th>3</th>\n",
       "      <td>Sam M.</td>\n",
       "      <td>Is there zero personal accountability in today...</td>\n",
       "      <td>legislation</td>\n",
       "      <td>A5038-P</td>\n",
       "      <td>weight gain</td>\n",
       "      <td>0</td>\n",
       "      <td>2</td>\n",
       "      <td>16669</td>\n",
       "      <td>4964352</td>\n",
       "      <td>[[\"zero\", \"personal\", \"accountability\", \"today...</td>\n",
       "      <td>[[\"CD\", \"JJ\", \"NN\", \"NN\", \"POS\", \"NN\"], [\"NN\",...</td>\n",
       "      <td>zero personal accountability today 's society....</td>\n",
       "      <td>[\"weight\", \"gain\"]</td>\n",
       "      <td>weight gain</td>\n",
       "      <td>0</td>\n",
       "      <td>0</td>\n",
       "    </tr>\n",
       "    <tr>\n",
       "      <th>4</th>\n",
       "      <td>Dstaszak</td>\n",
       "      <td>Look, there are issues to be debateed. Do we n...</td>\n",
       "      <td>libraries</td>\n",
       "      <td>A1613-P</td>\n",
       "      <td>libraries</td>\n",
       "      <td>0</td>\n",
       "      <td>1</td>\n",
       "      <td>8933</td>\n",
       "      <td>7950351</td>\n",
       "      <td>[[\"look\", \"issues\", \"debateed\"], [\"need\", \"muc...</td>\n",
       "      <td>[[\"VB\", \"NNS\", \"VBN\"], [\"VB\", \"JJ\", \"NN\", \"VB\"...</td>\n",
       "      <td>look issues debateed. need much brick mortaror...</td>\n",
       "      <td>[\"library\"]</td>\n",
       "      <td>library</td>\n",
       "      <td>1</td>\n",
       "      <td>1</td>\n",
       "    </tr>\n",
       "    <tr>\n",
       "      <th>...</th>\n",
       "      <td>...</td>\n",
       "      <td>...</td>\n",
       "      <td>...</td>\n",
       "      <td>...</td>\n",
       "      <td>...</td>\n",
       "      <td>...</td>\n",
       "      <td>...</td>\n",
       "      <td>...</td>\n",
       "      <td>...</td>\n",
       "      <td>...</td>\n",
       "      <td>...</td>\n",
       "      <td>...</td>\n",
       "      <td>...</td>\n",
       "      <td>...</td>\n",
       "      <td>...</td>\n",
       "      <td>...</td>\n",
       "    </tr>\n",
       "    <tr>\n",
       "      <th>2057</th>\n",
       "      <td>George</td>\n",
       "      <td>Privatization of state asserts means that Germ...</td>\n",
       "      <td>greece 's anti-austerity government</td>\n",
       "      <td>A810-P</td>\n",
       "      <td>greece 's anti-austerity government</td>\n",
       "      <td>2</td>\n",
       "      <td>4</td>\n",
       "      <td>22521</td>\n",
       "      <td>13957089</td>\n",
       "      <td>[[\"privatization\", \"state\", \"asserts\", \"means\"...</td>\n",
       "      <td>[[\"NN\", \"NN\", \"VBZ\", \"VBZ\", \"JJ\", \"NNS\", \"VB\",...</td>\n",
       "      <td>privatization state asserts means german busin...</td>\n",
       "      <td>[\"research\", \"paper\"]</td>\n",
       "      <td>research paper</td>\n",
       "      <td>1</td>\n",
       "      <td>0</td>\n",
       "    </tr>\n",
       "    <tr>\n",
       "      <th>2058</th>\n",
       "      <td>George</td>\n",
       "      <td>Privatization of state asserts means that Germ...</td>\n",
       "      <td>greece 's</td>\n",
       "      <td>A811-P</td>\n",
       "      <td>privatization of greek state assets</td>\n",
       "      <td>2</td>\n",
       "      <td>4</td>\n",
       "      <td>22522</td>\n",
       "      <td>13957089</td>\n",
       "      <td>[[\"privatization\", \"state\", \"asserts\", \"means\"...</td>\n",
       "      <td>[[\"NN\", \"NN\", \"VBZ\", \"VBZ\", \"JJ\", \"NNS\", \"VB\",...</td>\n",
       "      <td>privatization state asserts means german busin...</td>\n",
       "      <td>[\"library\"]</td>\n",
       "      <td>library</td>\n",
       "      <td>1</td>\n",
       "      <td>0</td>\n",
       "    </tr>\n",
       "    <tr>\n",
       "      <th>2059</th>\n",
       "      <td>Responsible Bob</td>\n",
       "      <td>The pathway to a career in medicine is designe...</td>\n",
       "      <td>college students</td>\n",
       "      <td>A495-P</td>\n",
       "      <td>college students</td>\n",
       "      <td>2</td>\n",
       "      <td>4</td>\n",
       "      <td>22523</td>\n",
       "      <td>5445604</td>\n",
       "      <td>[[\"pathway\", \"career\", \"medicine\", \"designed\",...</td>\n",
       "      <td>[[\"NN\", \"NN\", \"NN\", \"VBN\", \"VB\", \"JJ\", \"NNS\", ...</td>\n",
       "      <td>pathway career medicine designed benefit speci...</td>\n",
       "      <td>[\"birthright\", \"citizenship\"]</td>\n",
       "      <td>birthright citizenship</td>\n",
       "      <td>1</td>\n",
       "      <td>0</td>\n",
       "    </tr>\n",
       "    <tr>\n",
       "      <th>2060</th>\n",
       "      <td>Responsible Bob</td>\n",
       "      <td>The pathway to a career in medicine is designe...</td>\n",
       "      <td>unpaid intenship</td>\n",
       "      <td>A494-P</td>\n",
       "      <td>unpaid intenship</td>\n",
       "      <td>2</td>\n",
       "      <td>4</td>\n",
       "      <td>22524</td>\n",
       "      <td>5445604</td>\n",
       "      <td>[[\"pathway\", \"career\", \"medicine\", \"designed\",...</td>\n",
       "      <td>[[\"NN\", \"NN\", \"NN\", \"VBN\", \"VB\", \"JJ\", \"NNS\", ...</td>\n",
       "      <td>pathway career medicine designed benefit speci...</td>\n",
       "      <td>[\"comment\", \"section\"]</td>\n",
       "      <td>comment section</td>\n",
       "      <td>1</td>\n",
       "      <td>0</td>\n",
       "    </tr>\n",
       "    <tr>\n",
       "      <th>2061</th>\n",
       "      <td>Old Doc</td>\n",
       "      <td>The ACA is what we have and what we were able ...</td>\n",
       "      <td>obamacare</td>\n",
       "      <td>A1445-P</td>\n",
       "      <td>obamacare</td>\n",
       "      <td>2</td>\n",
       "      <td>4</td>\n",
       "      <td>22525</td>\n",
       "      <td>10096616</td>\n",
       "      <td>[[\"aca\", \"able\", \"generate\"], [\"far\", \"perfect...</td>\n",
       "      <td>[[\"NN\", \"JJ\", \"VB\"], [\"RB\", \"JJ\", \"JJ\", \"NN\", ...</td>\n",
       "      <td>aca able generate. far perfect single payer wo...</td>\n",
       "      <td>[\"college\", \"student\"]</td>\n",
       "      <td>college student</td>\n",
       "      <td>1</td>\n",
       "      <td>0</td>\n",
       "    </tr>\n",
       "  </tbody>\n",
       "</table>\n",
       "<p>2062 rows × 16 columns</p>\n",
       "</div>"
      ],
      "text/plain": [
       "               author                                               post  \\\n",
       "0      Leonard Miller  The comments can \"improve the quality of work ...   \n",
       "1              Sam M.  Is there zero personal accountability in today...   \n",
       "2              Sam M.  Is there zero personal accountability in today...   \n",
       "3              Sam M.  Is there zero personal accountability in today...   \n",
       "4            Dstaszak  Look, there are issues to be debateed. Do we n...   \n",
       "...               ...                                                ...   \n",
       "2057           George  Privatization of state asserts means that Germ...   \n",
       "2058           George  Privatization of state asserts means that Germ...   \n",
       "2059  Responsible Bob  The pathway to a career in medicine is designe...   \n",
       "2060  Responsible Bob  The pathway to a career in medicine is designe...   \n",
       "2061          Old Doc  The ACA is what we have and what we were able ...   \n",
       "\n",
       "                                ori_topic   ori_id  \\\n",
       "0                        comment sections  A2745-P   \n",
       "1                             legislation  A5038-P   \n",
       "2                             legislation  A5038-P   \n",
       "3                             legislation  A5038-P   \n",
       "4                               libraries  A1613-P   \n",
       "...                                   ...      ...   \n",
       "2057  greece 's anti-austerity government   A810-P   \n",
       "2058                            greece 's   A811-P   \n",
       "2059                     college students   A495-P   \n",
       "2060                     unpaid intenship   A494-P   \n",
       "2061                            obamacare  A1445-P   \n",
       "\n",
       "                                new_topic  label  type_idx  new_id    arc_id  \\\n",
       "0                        comment sections      0         1    3347  18247680   \n",
       "1                                 obesity      0         2   16667   4964352   \n",
       "2                         personal health      1         2   16668   4964352   \n",
       "3                             weight gain      0         2   16669   4964352   \n",
       "4                               libraries      0         1    8933   7950351   \n",
       "...                                   ...    ...       ...     ...       ...   \n",
       "2057  greece 's anti-austerity government      2         4   22521  13957089   \n",
       "2058  privatization of greek state assets      2         4   22522  13957089   \n",
       "2059                     college students      2         4   22523   5445604   \n",
       "2060                     unpaid intenship      2         4   22524   5445604   \n",
       "2061                            obamacare      2         4   22525  10096616   \n",
       "\n",
       "                                                   text  \\\n",
       "0     [[\"comments\", \"improve\", \"quality\", \"work\", \"w...   \n",
       "1     [[\"zero\", \"personal\", \"accountability\", \"today...   \n",
       "2     [[\"zero\", \"personal\", \"accountability\", \"today...   \n",
       "3     [[\"zero\", \"personal\", \"accountability\", \"today...   \n",
       "4     [[\"look\", \"issues\", \"debateed\"], [\"need\", \"muc...   \n",
       "...                                                 ...   \n",
       "2057  [[\"privatization\", \"state\", \"asserts\", \"means\"...   \n",
       "2058  [[\"privatization\", \"state\", \"asserts\", \"means\"...   \n",
       "2059  [[\"pathway\", \"career\", \"medicine\", \"designed\",...   \n",
       "2060  [[\"pathway\", \"career\", \"medicine\", \"designed\",...   \n",
       "2061  [[\"aca\", \"able\", \"generate\"], [\"far\", \"perfect...   \n",
       "\n",
       "                                               pos_text  \\\n",
       "0     [[\"NNS\", \"VB\", \"NN\", \"NN\", \"NNS\", \"VBP\", \"NNS\"...   \n",
       "1     [[\"CD\", \"JJ\", \"NN\", \"NN\", \"POS\", \"NN\"], [\"NN\",...   \n",
       "2     [[\"CD\", \"JJ\", \"NN\", \"NN\", \"POS\", \"NN\"], [\"NN\",...   \n",
       "3     [[\"CD\", \"JJ\", \"NN\", \"NN\", \"POS\", \"NN\"], [\"NN\",...   \n",
       "4     [[\"VB\", \"NNS\", \"VBN\"], [\"VB\", \"JJ\", \"NN\", \"VB\"...   \n",
       "...                                                 ...   \n",
       "2057  [[\"NN\", \"NN\", \"VBZ\", \"VBZ\", \"JJ\", \"NNS\", \"VB\",...   \n",
       "2058  [[\"NN\", \"NN\", \"VBZ\", \"VBZ\", \"JJ\", \"NNS\", \"VB\",...   \n",
       "2059  [[\"NN\", \"NN\", \"NN\", \"VBN\", \"VB\", \"JJ\", \"NNS\", ...   \n",
       "2060  [[\"NN\", \"NN\", \"NN\", \"VBN\", \"VB\", \"JJ\", \"NNS\", ...   \n",
       "2061  [[\"NN\", \"JJ\", \"VB\"], [\"RB\", \"JJ\", \"JJ\", \"NN\", ...   \n",
       "\n",
       "                                                 text_s  \\\n",
       "0     comments improve quality work writers learn re...   \n",
       "1     zero personal accountability today 's society....   \n",
       "2     zero personal accountability today 's society....   \n",
       "3     zero personal accountability today 's society....   \n",
       "4     look issues debateed. need much brick mortaror...   \n",
       "...                                                 ...   \n",
       "2057  privatization state asserts means german busin...   \n",
       "2058  privatization state asserts means german busin...   \n",
       "2059  pathway career medicine designed benefit speci...   \n",
       "2060  pathway career medicine designed benefit speci...   \n",
       "2061  aca able generate. far perfect single payer wo...   \n",
       "\n",
       "                              topic               topic_str  seen?  \\\n",
       "0            [\"comment\", \"section\"]         comment section      1   \n",
       "1                       [\"obesity\"]                 obesity      1   \n",
       "2            [\"personal\", \"health\"]         personal health      0   \n",
       "3                [\"weight\", \"gain\"]             weight gain      0   \n",
       "4                       [\"library\"]                 library      1   \n",
       "...                             ...                     ...    ...   \n",
       "2057          [\"research\", \"paper\"]          research paper      1   \n",
       "2058                    [\"library\"]                 library      1   \n",
       "2059  [\"birthright\", \"citizenship\"]  birthright citizenship      1   \n",
       "2060         [\"comment\", \"section\"]         comment section      1   \n",
       "2061         [\"college\", \"student\"]         college student      1   \n",
       "\n",
       "      contains_topic?  \n",
       "0                   1  \n",
       "1                   0  \n",
       "2                   0  \n",
       "3                   0  \n",
       "4                   1  \n",
       "...               ...  \n",
       "2057                0  \n",
       "2058                0  \n",
       "2059                0  \n",
       "2060                0  \n",
       "2061                0  \n",
       "\n",
       "[2062 rows x 16 columns]"
      ]
     },
     "execution_count": 27,
     "metadata": {},
     "output_type": "execute_result"
    }
   ],
   "source": [
    "df"
   ]
  },
  {
   "cell_type": "code",
   "execution_count": null,
   "id": "2c6d749c",
   "metadata": {},
   "outputs": [],
   "source": []
  },
  {
   "cell_type": "code",
   "execution_count": null,
   "id": "6c25840a",
   "metadata": {},
   "outputs": [],
   "source": []
  },
  {
   "cell_type": "code",
   "execution_count": null,
   "id": "1807775b",
   "metadata": {},
   "outputs": [],
   "source": []
  },
  {
   "cell_type": "code",
   "execution_count": null,
   "id": "c55d7e13",
   "metadata": {},
   "outputs": [],
   "source": []
  },
  {
   "cell_type": "code",
   "execution_count": null,
   "id": "6f32547d",
   "metadata": {},
   "outputs": [],
   "source": []
  },
  {
   "cell_type": "code",
   "execution_count": 15,
   "id": "0cff485a",
   "metadata": {
    "ExecuteTime": {
     "end_time": "2022-01-31T03:01:37.894226Z",
     "start_time": "2022-01-31T03:01:37.872285Z"
    }
   },
   "outputs": [],
   "source": [
    "df_ustance = pd.read_csv(\"../../../data/UStanceBR/teste_pqno/pqno_bo_train.csv\")"
   ]
  },
  {
   "cell_type": "code",
   "execution_count": 16,
   "id": "fc365f9a",
   "metadata": {
    "ExecuteTime": {
     "end_time": "2022-01-31T03:01:38.047562Z",
     "start_time": "2022-01-31T03:01:38.036911Z"
    }
   },
   "outputs": [],
   "source": [
    "df_ustance = df_ustance[[\"Text\", \"Target\", \"Polarity\"]].copy()"
   ]
  },
  {
   "cell_type": "code",
   "execution_count": 17,
   "id": "95a89c99",
   "metadata": {
    "ExecuteTime": {
     "end_time": "2022-01-31T03:01:38.203383Z",
     "start_time": "2022-01-31T03:01:38.199393Z"
    }
   },
   "outputs": [],
   "source": [
    "df_ustance.columns = [\"text_s\", \"topic\", \"label\"]"
   ]
  },
  {
   "cell_type": "code",
   "execution_count": 18,
   "id": "f80f4116",
   "metadata": {
    "ExecuteTime": {
     "end_time": "2022-01-31T03:01:38.390148Z",
     "start_time": "2022-01-31T03:01:38.381118Z"
    }
   },
   "outputs": [],
   "source": [
    "df_ustance[\"text\"] = df_ustance[\"text_s\"].apply(lambda x: x.split())"
   ]
  },
  {
   "cell_type": "code",
   "execution_count": 19,
   "id": "775a75a3",
   "metadata": {
    "ExecuteTime": {
     "end_time": "2022-01-31T03:01:43.149683Z",
     "start_time": "2022-01-31T03:01:43.117926Z"
    }
   },
   "outputs": [
    {
     "data": {
      "text/html": [
       "<div>\n",
       "<style scoped>\n",
       "    .dataframe tbody tr th:only-of-type {\n",
       "        vertical-align: middle;\n",
       "    }\n",
       "\n",
       "    .dataframe tbody tr th {\n",
       "        vertical-align: top;\n",
       "    }\n",
       "\n",
       "    .dataframe thead th {\n",
       "        text-align: right;\n",
       "    }\n",
       "</style>\n",
       "<table border=\"1\" class=\"dataframe\">\n",
       "  <thead>\n",
       "    <tr style=\"text-align: right;\">\n",
       "      <th></th>\n",
       "      <th>text_s</th>\n",
       "      <th>topic</th>\n",
       "      <th>label</th>\n",
       "      <th>text</th>\n",
       "    </tr>\n",
       "  </thead>\n",
       "  <tbody>\n",
       "    <tr>\n",
       "      <th>0</th>\n",
       "      <td>Demita-se Sergio Moro, você se tornou um peso ...</td>\n",
       "      <td>bo</td>\n",
       "      <td>for</td>\n",
       "      <td>[Demita-se, Sergio, Moro,, você, se, tornou, u...</td>\n",
       "    </tr>\n",
       "    <tr>\n",
       "      <th>1</th>\n",
       "      <td>Bolsonaro fala a verdade e essa gente imunda n...</td>\n",
       "      <td>bo</td>\n",
       "      <td>for</td>\n",
       "      <td>[Bolsonaro, fala, a, verdade, e, essa, gente, ...</td>\n",
       "    </tr>\n",
       "    <tr>\n",
       "      <th>2</th>\n",
       "      <td>bolsonaro Dois mentirosos jogando e enganando ...</td>\n",
       "      <td>bo</td>\n",
       "      <td>against</td>\n",
       "      <td>[bolsonaro, Dois, mentirosos, jogando, e, enga...</td>\n",
       "    </tr>\n",
       "    <tr>\n",
       "      <th>3</th>\n",
       "      <td>Se o Bolsonaro for o presidente dessa joça cha...</td>\n",
       "      <td>bo</td>\n",
       "      <td>against</td>\n",
       "      <td>[Se, o, Bolsonaro, for, o, presidente, dessa, ...</td>\n",
       "    </tr>\n",
       "    <tr>\n",
       "      <th>4</th>\n",
       "      <td>BOLSONARO NAO SABE NEM FALAR PORRA</td>\n",
       "      <td>bo</td>\n",
       "      <td>against</td>\n",
       "      <td>[BOLSONARO, NAO, SABE, NEM, FALAR, PORRA]</td>\n",
       "    </tr>\n",
       "    <tr>\n",
       "      <th>...</th>\n",
       "      <td>...</td>\n",
       "      <td>...</td>\n",
       "      <td>...</td>\n",
       "      <td>...</td>\n",
       "    </tr>\n",
       "    <tr>\n",
       "      <th>123</th>\n",
       "      <td>O eleitor de Bolsonaro não é fanático e não é ...</td>\n",
       "      <td>bo</td>\n",
       "      <td>for</td>\n",
       "      <td>[O, eleitor, de, Bolsonaro, não, é, fanático, ...</td>\n",
       "    </tr>\n",
       "    <tr>\n",
       "      <th>124</th>\n",
       "      <td>Mano Bolsonaro não consegue ficar 12h sem fala...</td>\n",
       "      <td>bo</td>\n",
       "      <td>against</td>\n",
       "      <td>[Mano, Bolsonaro, não, consegue, ficar, 12h, s...</td>\n",
       "    </tr>\n",
       "    <tr>\n",
       "      <th>125</th>\n",
       "      <td>A leitura é da CNN é uma piada... Estão soment...</td>\n",
       "      <td>bo</td>\n",
       "      <td>against</td>\n",
       "      <td>[A, leitura, é, da, CNN, é, uma, piada..., Est...</td>\n",
       "    </tr>\n",
       "    <tr>\n",
       "      <th>126</th>\n",
       "      <td>Esse carlos Bolsonaro parece um mlk de 13 anos...</td>\n",
       "      <td>bo</td>\n",
       "      <td>against</td>\n",
       "      <td>[Esse, carlos, Bolsonaro, parece, um, mlk, de,...</td>\n",
       "    </tr>\n",
       "    <tr>\n",
       "      <th>127</th>\n",
       "      <td>é tipo um @ , só que hetero. Bolsonaro tá lasc...</td>\n",
       "      <td>bo</td>\n",
       "      <td>for</td>\n",
       "      <td>[é, tipo, um, @, ,, só, que, hetero., Bolsonar...</td>\n",
       "    </tr>\n",
       "  </tbody>\n",
       "</table>\n",
       "<p>128 rows × 4 columns</p>\n",
       "</div>"
      ],
      "text/plain": [
       "                                                text_s topic    label  \\\n",
       "0    Demita-se Sergio Moro, você se tornou um peso ...    bo      for   \n",
       "1    Bolsonaro fala a verdade e essa gente imunda n...    bo      for   \n",
       "2    bolsonaro Dois mentirosos jogando e enganando ...    bo  against   \n",
       "3    Se o Bolsonaro for o presidente dessa joça cha...    bo  against   \n",
       "4                   BOLSONARO NAO SABE NEM FALAR PORRA    bo  against   \n",
       "..                                                 ...   ...      ...   \n",
       "123  O eleitor de Bolsonaro não é fanático e não é ...    bo      for   \n",
       "124  Mano Bolsonaro não consegue ficar 12h sem fala...    bo  against   \n",
       "125  A leitura é da CNN é uma piada... Estão soment...    bo  against   \n",
       "126  Esse carlos Bolsonaro parece um mlk de 13 anos...    bo  against   \n",
       "127  é tipo um @ , só que hetero. Bolsonaro tá lasc...    bo      for   \n",
       "\n",
       "                                                  text  \n",
       "0    [Demita-se, Sergio, Moro,, você, se, tornou, u...  \n",
       "1    [Bolsonaro, fala, a, verdade, e, essa, gente, ...  \n",
       "2    [bolsonaro, Dois, mentirosos, jogando, e, enga...  \n",
       "3    [Se, o, Bolsonaro, for, o, presidente, dessa, ...  \n",
       "4            [BOLSONARO, NAO, SABE, NEM, FALAR, PORRA]  \n",
       "..                                                 ...  \n",
       "123  [O, eleitor, de, Bolsonaro, não, é, fanático, ...  \n",
       "124  [Mano, Bolsonaro, não, consegue, ficar, 12h, s...  \n",
       "125  [A, leitura, é, da, CNN, é, uma, piada..., Est...  \n",
       "126  [Esse, carlos, Bolsonaro, parece, um, mlk, de,...  \n",
       "127  [é, tipo, um, @, ,, só, que, hetero., Bolsonar...  \n",
       "\n",
       "[128 rows x 4 columns]"
      ]
     },
     "execution_count": 19,
     "metadata": {},
     "output_type": "execute_result"
    }
   ],
   "source": [
    "df_ustance"
   ]
  },
  {
   "cell_type": "code",
   "execution_count": null,
   "id": "3469953d",
   "metadata": {},
   "outputs": [],
   "source": []
  }
 ],
 "metadata": {
  "kernelspec": {
   "display_name": "Python [conda env:stance_tf2]",
   "language": "python",
   "name": "conda-env-stance_tf2-py"
  },
  "language_info": {
   "codemirror_mode": {
    "name": "ipython",
    "version": 3
   },
   "file_extension": ".py",
   "mimetype": "text/x-python",
   "name": "python",
   "nbconvert_exporter": "python",
   "pygments_lexer": "ipython3",
   "version": "3.7.10"
  },
  "toc": {
   "base_numbering": 1,
   "nav_menu": {},
   "number_sections": true,
   "sideBar": true,
   "skip_h1_title": false,
   "title_cell": "Table of Contents",
   "title_sidebar": "Contents",
   "toc_cell": false,
   "toc_position": {},
   "toc_section_display": true,
   "toc_window_display": false
  }
 },
 "nbformat": 4,
 "nbformat_minor": 5
}
