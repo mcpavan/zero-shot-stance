{
 "cells": [
  {
   "cell_type": "code",
   "execution_count": 2,
   "id": "530cf6e6",
   "metadata": {
    "ExecuteTime": {
     "end_time": "2022-01-30T20:08:08.602161Z",
     "start_time": "2022-01-30T20:07:30.065459Z"
    }
   },
   "outputs": [
    {
     "name": "stdout",
     "output_type": "stream",
     "text": [
      "preprocessing data ../data/VAST/vast_train.csv ...\n",
      "processing BERT\n",
      "...finished pre-processing for BERT\n",
      "preprocessing data ../data/VAST/vast_dev.csv ...\n",
      "processing BERT\n",
      "...finished pre-processing for BERT\n",
      "Using cuda?: True\n",
      "[tganet_t7] epoch 0\n"
     ]
    },
    {
     "name": "stderr",
     "output_type": "stream",
     "text": [
      "Truncation was not explicitly activated but `max_length` is provided a specific value, please use `truncation=True` to explicitly truncate examples to max length. Defaulting to 'longest_first' truncation strategy. If you encode pairs of sequences (GLUE-style) with the tokenizer you can select this strategy more precisely by providing a specific strategy to `truncation`.\n",
      "D:\\Anaconda3\\envs\\stance_tf2\\lib\\site-packages\\transformers\\tokenization_utils_base.py:2111: FutureWarning: The `pad_to_max_length` argument is deprecated and will be removed in a future version, use `padding=True` or `padding='longest'` to pad to the longest sequence in the batch, or use `padding='max_length'` to pad to a max length. In this case, you can give a specific length with `max_length` (e.g. `max_length=45`) or leave max_length to None to pad to the maximal input size of the model (e.g. 512 for Bert).\n",
      "  FutureWarning,\n",
      "Truncation was not explicitly activated but `max_length` is provided a specific value, please use `truncation=True` to explicitly truncate examples to max length. Defaulting to 'longest_first' truncation strategy. If you encode pairs of sequences (GLUE-style) with the tokenizer you can select this strategy more precisely by providing a specific strategy to `truncation`.\n",
      "Some weights of the model checkpoint at bert-base-uncased were not used when initializing BertModel: ['cls.seq_relationship.bias', 'cls.predictions.transform.LayerNorm.bias', 'cls.predictions.transform.LayerNorm.weight', 'cls.predictions.transform.dense.weight', 'cls.seq_relationship.weight', 'cls.predictions.decoder.weight', 'cls.predictions.transform.dense.bias', 'cls.predictions.bias']\n",
      "- This IS expected if you are initializing BertModel from the checkpoint of a model trained on another task or with another architecture (e.g. initializing a BertForSequenceClassification model from a BertForPreTraining model).\n",
      "- This IS NOT expected if you are initializing BertModel from the checkpoint of a model that you expect to be exactly identical (initializing a BertForSequenceClassification model from a BertForSequenceClassification model).\n",
      "Traceback (most recent call last):\n",
      "  File \"train_model.py\", line 329, in <module>\n",
      "    num_warm=args['num_warm'], is_bert=('bert' in config))\n",
      "  File \"train_model.py\", line 31, in train\n",
      "    model_handler.train_step()\n",
      "  File \"./modeling\\model_utils.py\", line 248, in train_step\n",
      "    y_pred, labels = self.get_pred_with_grad(sample_batched)\n",
      "  File \"./modeling\\model_utils.py\", line 427, in get_pred_with_grad\n",
      "    embed_args = self.embed_model(**args)\n",
      "  File \"D:\\Anaconda3\\envs\\stance_tf2\\lib\\site-packages\\torch\\nn\\modules\\module.py\", line 1051, in _call_impl\n",
      "    return forward_call(*input, **kwargs)\n",
      "  File \"./modeling\\input_models.py\", line 174, in forward\n",
      "    full_masks = item_masks.unsqueeze(2).repeat(1, 1, last_hidden.shape[2])\n",
      "AttributeError: 'str' object has no attribute 'shape'\n"
     ]
    }
   ],
   "source": [
    "! python train_model.py -s ../config/config-tganet.txt -i ../data/VAST/vast_train.csv -d ../data/VAST/vast_dev.csv -e 1 -p 0 -k \"f-0_macro\""
   ]
  },
  {
   "cell_type": "code",
   "execution_count": null,
   "id": "559b180c",
   "metadata": {},
   "outputs": [],
   "source": []
  }
 ],
 "metadata": {
  "kernelspec": {
   "display_name": "Python [conda env:stance_tf2]",
   "language": "python",
   "name": "conda-env-stance_tf2-py"
  },
  "language_info": {
   "codemirror_mode": {
    "name": "ipython",
    "version": 3
   },
   "file_extension": ".py",
   "mimetype": "text/x-python",
   "name": "python",
   "nbconvert_exporter": "python",
   "pygments_lexer": "ipython3",
   "version": "3.7.10"
  },
  "toc": {
   "base_numbering": 1,
   "nav_menu": {},
   "number_sections": true,
   "sideBar": true,
   "skip_h1_title": false,
   "title_cell": "Table of Contents",
   "title_sidebar": "Contents",
   "toc_cell": false,
   "toc_position": {},
   "toc_section_display": true,
   "toc_window_display": false
  }
 },
 "nbformat": 4,
 "nbformat_minor": 5
}
