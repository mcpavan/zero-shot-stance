{
 "cells": [
  {
   "cell_type": "code",
   "execution_count": 1,
   "id": "d5fac6aa",
   "metadata": {
    "ExecuteTime": {
     "end_time": "2022-03-25T20:24:28.574368Z",
     "start_time": "2022-03-25T20:24:27.337510Z"
    }
   },
   "outputs": [],
   "source": [
    "import pandas as pd\n",
    "from glob import glob\n",
    "from tqdm import tqdm_notebook\n",
    "from sklearn.model_selection import train_test_split\n",
    "import os\n",
    "import re"
   ]
  },
  {
   "cell_type": "code",
   "execution_count": 2,
   "id": "9395972e",
   "metadata": {
    "ExecuteTime": {
     "end_time": "2022-03-25T20:24:29.228432Z",
     "start_time": "2022-03-25T20:24:29.141558Z"
    },
    "scrolled": true
   },
   "outputs": [],
   "source": [
    "vast_cols = pd.read_csv(\"./data/VAST/vast_dev.csv\").columns"
   ]
  },
  {
   "cell_type": "code",
   "execution_count": 3,
   "id": "2079d869",
   "metadata": {
    "ExecuteTime": {
     "end_time": "2022-03-25T20:24:30.297944Z",
     "start_time": "2022-03-25T20:24:29.802209Z"
    }
   },
   "outputs": [
    {
     "data": {
      "text/html": [
       "<div>\n",
       "<style scoped>\n",
       "    .dataframe tbody tr th:only-of-type {\n",
       "        vertical-align: middle;\n",
       "    }\n",
       "\n",
       "    .dataframe tbody tr th {\n",
       "        vertical-align: top;\n",
       "    }\n",
       "\n",
       "    .dataframe thead th {\n",
       "        text-align: right;\n",
       "    }\n",
       "</style>\n",
       "<table border=\"1\" class=\"dataframe\">\n",
       "  <thead>\n",
       "    <tr style=\"text-align: right;\">\n",
       "      <th></th>\n",
       "      <th>author</th>\n",
       "      <th>post</th>\n",
       "      <th>ori_topic</th>\n",
       "      <th>ori_id</th>\n",
       "      <th>new_topic</th>\n",
       "      <th>label</th>\n",
       "      <th>type_idx</th>\n",
       "      <th>new_id</th>\n",
       "      <th>arc_id</th>\n",
       "      <th>text</th>\n",
       "      <th>pos_text</th>\n",
       "      <th>text_s</th>\n",
       "      <th>topic</th>\n",
       "      <th>topic_str</th>\n",
       "      <th>seen?</th>\n",
       "      <th>contains_topic?</th>\n",
       "    </tr>\n",
       "  </thead>\n",
       "  <tbody>\n",
       "    <tr>\n",
       "      <th>0</th>\n",
       "      <td>Joseph Huben</td>\n",
       "      <td>Regulation of corporations has been subverted ...</td>\n",
       "      <td>companies</td>\n",
       "      <td>A376-P</td>\n",
       "      <td>companies</td>\n",
       "      <td>0</td>\n",
       "      <td>1</td>\n",
       "      <td>4650</td>\n",
       "      <td>16621568</td>\n",
       "      <td>[[\"regulation\", \"corporations\", \"subverted\", \"...</td>\n",
       "      <td>[[\"NN\", \"NNS\", \"VBN\", \"NNS\"], [\"NNS\", \"JJ\", \"N...</td>\n",
       "      <td>regulation corporations subverted corporations...</td>\n",
       "      <td>[\"company\"]</td>\n",
       "      <td>company</td>\n",
       "      <td>1</td>\n",
       "      <td>0</td>\n",
       "    </tr>\n",
       "    <tr>\n",
       "      <th>1</th>\n",
       "      <td>Joseph Huben</td>\n",
       "      <td>Regulation of corporations has been subverted ...</td>\n",
       "      <td>companies</td>\n",
       "      <td>A376-P</td>\n",
       "      <td>regulation</td>\n",
       "      <td>0</td>\n",
       "      <td>3</td>\n",
       "      <td>4651</td>\n",
       "      <td>16621568</td>\n",
       "      <td>[[\"regulation\", \"corporations\", \"subverted\", \"...</td>\n",
       "      <td>[[\"NN\", \"NNS\", \"VBN\", \"NNS\"], [\"NNS\", \"JJ\", \"N...</td>\n",
       "      <td>regulation corporations subverted corporations...</td>\n",
       "      <td>[\"regulation\"]</td>\n",
       "      <td>regulation</td>\n",
       "      <td>1</td>\n",
       "      <td>1</td>\n",
       "    </tr>\n",
       "    <tr>\n",
       "      <th>2</th>\n",
       "      <td>Joseph Huben</td>\n",
       "      <td>Regulation of corporations has been subverted ...</td>\n",
       "      <td>companies</td>\n",
       "      <td>A376-P</td>\n",
       "      <td>corporate regulation</td>\n",
       "      <td>0</td>\n",
       "      <td>3</td>\n",
       "      <td>4652</td>\n",
       "      <td>16621568</td>\n",
       "      <td>[[\"regulation\", \"corporations\", \"subverted\", \"...</td>\n",
       "      <td>[[\"NN\", \"NNS\", \"VBN\", \"NNS\"], [\"NNS\", \"JJ\", \"N...</td>\n",
       "      <td>regulation corporations subverted corporations...</td>\n",
       "      <td>[\"corporate\", \"regulation\"]</td>\n",
       "      <td>corporate regulation</td>\n",
       "      <td>1</td>\n",
       "      <td>0</td>\n",
       "    </tr>\n",
       "    <tr>\n",
       "      <th>3</th>\n",
       "      <td>Joseph Huben</td>\n",
       "      <td>Regulation of corporations has been subverted ...</td>\n",
       "      <td>companies</td>\n",
       "      <td>A376-P</td>\n",
       "      <td>regulation of corporations</td>\n",
       "      <td>0</td>\n",
       "      <td>3</td>\n",
       "      <td>4653</td>\n",
       "      <td>16621568</td>\n",
       "      <td>[[\"regulation\", \"corporations\", \"subverted\", \"...</td>\n",
       "      <td>[[\"NN\", \"NNS\", \"VBN\", \"NNS\"], [\"NNS\", \"JJ\", \"N...</td>\n",
       "      <td>regulation corporations subverted corporations...</td>\n",
       "      <td>[\"regulation\", \"corporation\"]</td>\n",
       "      <td>regulation corporation</td>\n",
       "      <td>1</td>\n",
       "      <td>1</td>\n",
       "    </tr>\n",
       "    <tr>\n",
       "      <th>4</th>\n",
       "      <td>Lisa Evers</td>\n",
       "      <td>Absolutely it's needs to be defined and regula...</td>\n",
       "      <td>food labels</td>\n",
       "      <td>A3682-P</td>\n",
       "      <td>food labels</td>\n",
       "      <td>0</td>\n",
       "      <td>1</td>\n",
       "      <td>12875</td>\n",
       "      <td>13303812</td>\n",
       "      <td>[[\"absolutely\", \"'s\", \"needs\", \"defined\", \"reg...</td>\n",
       "      <td>[[\"RB\", \"VBZ\", \"NNS\", \"VBN\", \"VBN\", \"NN\", \"RB\"...</td>\n",
       "      <td>absolutely 's needs defined regulated use curr...</td>\n",
       "      <td>[\"food\", \"label\"]</td>\n",
       "      <td>food label</td>\n",
       "      <td>1</td>\n",
       "      <td>0</td>\n",
       "    </tr>\n",
       "    <tr>\n",
       "      <th>...</th>\n",
       "      <td>...</td>\n",
       "      <td>...</td>\n",
       "      <td>...</td>\n",
       "      <td>...</td>\n",
       "      <td>...</td>\n",
       "      <td>...</td>\n",
       "      <td>...</td>\n",
       "      <td>...</td>\n",
       "      <td>...</td>\n",
       "      <td>...</td>\n",
       "      <td>...</td>\n",
       "      <td>...</td>\n",
       "      <td>...</td>\n",
       "      <td>...</td>\n",
       "      <td>...</td>\n",
       "      <td>...</td>\n",
       "    </tr>\n",
       "    <tr>\n",
       "      <th>13472</th>\n",
       "      <td>may</td>\n",
       "      <td>The United States of America is the most advan...</td>\n",
       "      <td>mandatory for all children</td>\n",
       "      <td>A1484-P</td>\n",
       "      <td>mandatory for all children</td>\n",
       "      <td>2</td>\n",
       "      <td>4</td>\n",
       "      <td>21849</td>\n",
       "      <td>11411433</td>\n",
       "      <td>[[\"united\", \"states\", \"america\", \"advanced\", \"...</td>\n",
       "      <td>[[\"NNP\", \"NNP\", \"NNP\", \"JJ\", \"NN\", \"NNS\", \"NN\"...</td>\n",
       "      <td>united states america advanced country terms c...</td>\n",
       "      <td>[\"intestate\", \"student\"]</td>\n",
       "      <td>intestate student</td>\n",
       "      <td>1</td>\n",
       "      <td>0</td>\n",
       "    </tr>\n",
       "    <tr>\n",
       "      <th>13473</th>\n",
       "      <td>may</td>\n",
       "      <td>The United States of America is the most advan...</td>\n",
       "      <td>mandatory for all children</td>\n",
       "      <td>A1484-P</td>\n",
       "      <td>childhood vaccination</td>\n",
       "      <td>2</td>\n",
       "      <td>4</td>\n",
       "      <td>21850</td>\n",
       "      <td>11411433</td>\n",
       "      <td>[[\"united\", \"states\", \"america\", \"advanced\", \"...</td>\n",
       "      <td>[[\"NNP\", \"NNP\", \"NNP\", \"JJ\", \"NN\", \"NNS\", \"NN\"...</td>\n",
       "      <td>united states america advanced country terms c...</td>\n",
       "      <td>[\"public\", \"beach\"]</td>\n",
       "      <td>public beach</td>\n",
       "      <td>1</td>\n",
       "      <td>0</td>\n",
       "    </tr>\n",
       "    <tr>\n",
       "      <th>13474</th>\n",
       "      <td>MG</td>\n",
       "      <td>I'd just like to see the curriculum. Too many ...</td>\n",
       "      <td>kids</td>\n",
       "      <td>A1209-P</td>\n",
       "      <td>kids</td>\n",
       "      <td>2</td>\n",
       "      <td>4</td>\n",
       "      <td>21851</td>\n",
       "      <td>5357545</td>\n",
       "      <td>[[\"'d\", \"like\", \"see\", \"curriculum\"], [\"many\",...</td>\n",
       "      <td>[[\"MD\", \"VB\", \"VB\", \"NN\"], [\"JJ\", \"NNS\", \"NN\",...</td>\n",
       "      <td>'d like see curriculum. many times syllabus gi...</td>\n",
       "      <td>[\"jail\", \"record\"]</td>\n",
       "      <td>jail record</td>\n",
       "      <td>1</td>\n",
       "      <td>0</td>\n",
       "    </tr>\n",
       "    <tr>\n",
       "      <th>13475</th>\n",
       "      <td>SPQR</td>\n",
       "      <td>Analogies are a weak form of argument, but the...</td>\n",
       "      <td>crime</td>\n",
       "      <td>A504-P</td>\n",
       "      <td>crime</td>\n",
       "      <td>2</td>\n",
       "      <td>4</td>\n",
       "      <td>21852</td>\n",
       "      <td>16711658</td>\n",
       "      <td>[[\"analogies\", \"weak\", \"form\", \"argument\", \"pa...</td>\n",
       "      <td>[[\"NNS\", \"JJ\", \"NN\", \"NN\", \"NNS\", \"VBG\", \"JJ\",...</td>\n",
       "      <td>analogies weak form argument parallels predict...</td>\n",
       "      <td>[\"vacation\"]</td>\n",
       "      <td>vacation</td>\n",
       "      <td>1</td>\n",
       "      <td>0</td>\n",
       "    </tr>\n",
       "    <tr>\n",
       "      <th>13476</th>\n",
       "      <td>WJH</td>\n",
       "      <td>I personally believe that whatever the outcome...</td>\n",
       "      <td>us</td>\n",
       "      <td>A4010-P</td>\n",
       "      <td>civil war</td>\n",
       "      <td>2</td>\n",
       "      <td>4</td>\n",
       "      <td>21853</td>\n",
       "      <td>9830395</td>\n",
       "      <td>[[\"personally\", \"believe\", \"whatever\", \"outcom...</td>\n",
       "      <td>[[\"RB\", \"VBP\", \"WDT\", \"NN\", \"JJ\", \"NN\", \"CD\", ...</td>\n",
       "      <td>personally believe whatever outcome civil war ...</td>\n",
       "      <td>[\"mandatory\", \"child\"]</td>\n",
       "      <td>mandatory child</td>\n",
       "      <td>1</td>\n",
       "      <td>0</td>\n",
       "    </tr>\n",
       "  </tbody>\n",
       "</table>\n",
       "<p>13477 rows × 16 columns</p>\n",
       "</div>"
      ],
      "text/plain": [
       "             author                                               post  \\\n",
       "0      Joseph Huben  Regulation of corporations has been subverted ...   \n",
       "1      Joseph Huben  Regulation of corporations has been subverted ...   \n",
       "2      Joseph Huben  Regulation of corporations has been subverted ...   \n",
       "3      Joseph Huben  Regulation of corporations has been subverted ...   \n",
       "4        Lisa Evers  Absolutely it's needs to be defined and regula...   \n",
       "...             ...                                                ...   \n",
       "13472           may  The United States of America is the most advan...   \n",
       "13473           may  The United States of America is the most advan...   \n",
       "13474            MG  I'd just like to see the curriculum. Too many ...   \n",
       "13475          SPQR  Analogies are a weak form of argument, but the...   \n",
       "13476           WJH  I personally believe that whatever the outcome...   \n",
       "\n",
       "                        ori_topic   ori_id                   new_topic  label  \\\n",
       "0                       companies   A376-P                   companies      0   \n",
       "1                       companies   A376-P                  regulation      0   \n",
       "2                       companies   A376-P        corporate regulation      0   \n",
       "3                       companies   A376-P  regulation of corporations      0   \n",
       "4                     food labels  A3682-P                 food labels      0   \n",
       "...                           ...      ...                         ...    ...   \n",
       "13472  mandatory for all children  A1484-P  mandatory for all children      2   \n",
       "13473  mandatory for all children  A1484-P       childhood vaccination      2   \n",
       "13474                        kids  A1209-P                        kids      2   \n",
       "13475                       crime   A504-P                       crime      2   \n",
       "13476                          us  A4010-P                   civil war      2   \n",
       "\n",
       "       type_idx  new_id    arc_id  \\\n",
       "0             1    4650  16621568   \n",
       "1             3    4651  16621568   \n",
       "2             3    4652  16621568   \n",
       "3             3    4653  16621568   \n",
       "4             1   12875  13303812   \n",
       "...         ...     ...       ...   \n",
       "13472         4   21849  11411433   \n",
       "13473         4   21850  11411433   \n",
       "13474         4   21851   5357545   \n",
       "13475         4   21852  16711658   \n",
       "13476         4   21853   9830395   \n",
       "\n",
       "                                                    text  \\\n",
       "0      [[\"regulation\", \"corporations\", \"subverted\", \"...   \n",
       "1      [[\"regulation\", \"corporations\", \"subverted\", \"...   \n",
       "2      [[\"regulation\", \"corporations\", \"subverted\", \"...   \n",
       "3      [[\"regulation\", \"corporations\", \"subverted\", \"...   \n",
       "4      [[\"absolutely\", \"'s\", \"needs\", \"defined\", \"reg...   \n",
       "...                                                  ...   \n",
       "13472  [[\"united\", \"states\", \"america\", \"advanced\", \"...   \n",
       "13473  [[\"united\", \"states\", \"america\", \"advanced\", \"...   \n",
       "13474  [[\"'d\", \"like\", \"see\", \"curriculum\"], [\"many\",...   \n",
       "13475  [[\"analogies\", \"weak\", \"form\", \"argument\", \"pa...   \n",
       "13476  [[\"personally\", \"believe\", \"whatever\", \"outcom...   \n",
       "\n",
       "                                                pos_text  \\\n",
       "0      [[\"NN\", \"NNS\", \"VBN\", \"NNS\"], [\"NNS\", \"JJ\", \"N...   \n",
       "1      [[\"NN\", \"NNS\", \"VBN\", \"NNS\"], [\"NNS\", \"JJ\", \"N...   \n",
       "2      [[\"NN\", \"NNS\", \"VBN\", \"NNS\"], [\"NNS\", \"JJ\", \"N...   \n",
       "3      [[\"NN\", \"NNS\", \"VBN\", \"NNS\"], [\"NNS\", \"JJ\", \"N...   \n",
       "4      [[\"RB\", \"VBZ\", \"NNS\", \"VBN\", \"VBN\", \"NN\", \"RB\"...   \n",
       "...                                                  ...   \n",
       "13472  [[\"NNP\", \"NNP\", \"NNP\", \"JJ\", \"NN\", \"NNS\", \"NN\"...   \n",
       "13473  [[\"NNP\", \"NNP\", \"NNP\", \"JJ\", \"NN\", \"NNS\", \"NN\"...   \n",
       "13474  [[\"MD\", \"VB\", \"VB\", \"NN\"], [\"JJ\", \"NNS\", \"NN\",...   \n",
       "13475  [[\"NNS\", \"JJ\", \"NN\", \"NN\", \"NNS\", \"VBG\", \"JJ\",...   \n",
       "13476  [[\"RB\", \"VBP\", \"WDT\", \"NN\", \"JJ\", \"NN\", \"CD\", ...   \n",
       "\n",
       "                                                  text_s  \\\n",
       "0      regulation corporations subverted corporations...   \n",
       "1      regulation corporations subverted corporations...   \n",
       "2      regulation corporations subverted corporations...   \n",
       "3      regulation corporations subverted corporations...   \n",
       "4      absolutely 's needs defined regulated use curr...   \n",
       "...                                                  ...   \n",
       "13472  united states america advanced country terms c...   \n",
       "13473  united states america advanced country terms c...   \n",
       "13474  'd like see curriculum. many times syllabus gi...   \n",
       "13475  analogies weak form argument parallels predict...   \n",
       "13476  personally believe whatever outcome civil war ...   \n",
       "\n",
       "                               topic               topic_str  seen?  \\\n",
       "0                        [\"company\"]                 company      1   \n",
       "1                     [\"regulation\"]              regulation      1   \n",
       "2        [\"corporate\", \"regulation\"]    corporate regulation      1   \n",
       "3      [\"regulation\", \"corporation\"]  regulation corporation      1   \n",
       "4                  [\"food\", \"label\"]              food label      1   \n",
       "...                              ...                     ...    ...   \n",
       "13472       [\"intestate\", \"student\"]       intestate student      1   \n",
       "13473            [\"public\", \"beach\"]            public beach      1   \n",
       "13474             [\"jail\", \"record\"]             jail record      1   \n",
       "13475                   [\"vacation\"]                vacation      1   \n",
       "13476         [\"mandatory\", \"child\"]         mandatory child      1   \n",
       "\n",
       "       contains_topic?  \n",
       "0                    0  \n",
       "1                    1  \n",
       "2                    0  \n",
       "3                    1  \n",
       "4                    0  \n",
       "...                ...  \n",
       "13472                0  \n",
       "13473                0  \n",
       "13474                0  \n",
       "13475                0  \n",
       "13476                0  \n",
       "\n",
       "[13477 rows x 16 columns]"
      ]
     },
     "execution_count": 3,
     "metadata": {},
     "output_type": "execute_result"
    }
   ],
   "source": [
    "pd.read_csv(\"./data/VAST/vast_train.csv\")"
   ]
  },
  {
   "cell_type": "code",
   "execution_count": 4,
   "id": "9ece0493",
   "metadata": {
    "ExecuteTime": {
     "end_time": "2022-03-25T20:24:30.780739Z",
     "start_time": "2022-03-25T20:24:30.763876Z"
    }
   },
   "outputs": [],
   "source": [
    "cols = [\n",
    "    \"User_ID\",     # author: username of the comment author\n",
    "    \"Text\",        # post: original comment, unprocessed\n",
    "    \"Target\",      # ori_topic: heuristically extracted topic\n",
    "    \"Tweet_ID\",    # ori_id: id generated to link post and heuristically extracted topics\n",
    "    \"Target\",      # new_topic: updated topic from crowdsourced annotations\n",
    "    \"Polarity\",    # label: stance label, 0=con, 1=pro, 2=neutral\n",
    "    \"Filler\",      # type_idx: type number, 1=HeurTopic, 2=CorrTopic, 3=ListTopic, 4=Synthetic neutral\n",
    "    \"Tweet_Seq\",   # new_id: unique id for every comment-topic-label pair\n",
    "    \"Filler\",      # arc_id: id of the original article on NYT\n",
    "    \"Text\",        # text: sentence and word tokenized and lowercased text, with punctuation and stopwords removed\n",
    "    \"POS\",         # pos_text\n",
    "    \"Text\",        # text_s: string version of text\n",
    "    \"Target\",      # topic: tokenized and lowercased version topic, with punctuation and stopwords removed\n",
    "    \"Target\",      # topic_str: string version of topic\n",
    "    \"Filler\",      # seen?: indicator for zero-shot or few-shot example, 0=zero-shot, 1=few-shot\n",
    "    \"Filler\",      # contains_topic?: indicator for whether topic is contained in the text, 0=no, 1=yes  \n",
    "#     \"Filler\",      # change_lst: list of swapped words (unique to vast_test-sentswap.csv)  \n",
    "#     \"Filler\",      # change_type: type of sentiment swapping  \n",
    "#     \"Filler\",      # LexSim: a list of lexically similar training topics (if a zero-shot topic)  \n",
    "#     \"Filler\",      # Qte: whether the example contains quotes (1=yes, 0=no)  \n",
    "#     \"Filler\",      # Sarc: whether the example contains sarcasm (1=yes, 0=no)  \n",
    "#     \"Filler\",      # Imp: whether the text contains the topic and the label is non-neutral (1=yes, 0=no)  \n",
    "#     \"Filler\",      # mlS: whether there are other examples with the same document and different, non-neutral, stance labels (1=yes, 0=no)  \n",
    "#     \"Filler\",      # mlT: whether there are other examples with the same document and different topics (1=yes, 0=no)\n",
    "]"
   ]
  },
  {
   "cell_type": "code",
   "execution_count": 5,
   "id": "b56f11ec",
   "metadata": {
    "ExecuteTime": {
     "end_time": "2022-03-25T20:24:31.386344Z",
     "start_time": "2022-03-25T20:24:31.371359Z"
    }
   },
   "outputs": [],
   "source": [
    "os.makedirs(\"./data/UStanceBR/\", exist_ok=True)"
   ]
  },
  {
   "cell_type": "code",
   "execution_count": 6,
   "id": "fc14aeeb",
   "metadata": {
    "ExecuteTime": {
     "end_time": "2022-03-25T20:24:32.391262Z",
     "start_time": "2022-03-25T20:24:32.380244Z"
    }
   },
   "outputs": [
    {
     "data": {
      "text/plain": [
       "['../../data/UStanceBR/v2\\\\r2_bo_test_statements.csv',\n",
       " '../../data/UStanceBR/v2\\\\r2_bo_train_statements.csv',\n",
       " '../../data/UStanceBR/v2\\\\r2_cl_test_statements.csv',\n",
       " '../../data/UStanceBR/v2\\\\r2_cl_train_statements.csv',\n",
       " '../../data/UStanceBR/v2\\\\r2_co_test_statements.csv',\n",
       " '../../data/UStanceBR/v2\\\\r2_co_train_statements.csv',\n",
       " '../../data/UStanceBR/v2\\\\r2_gl_test_statements.csv',\n",
       " '../../data/UStanceBR/v2\\\\r2_gl_train_statements.csv',\n",
       " '../../data/UStanceBR/v2\\\\r2_ig_test_statements.csv',\n",
       " '../../data/UStanceBR/v2\\\\r2_ig_train_statements.csv',\n",
       " '../../data/UStanceBR/v2\\\\r2_lu_test_statements.csv',\n",
       " '../../data/UStanceBR/v2\\\\r2_lu_train_statements.csv']"
      ]
     },
     "execution_count": 6,
     "metadata": {},
     "output_type": "execute_result"
    }
   ],
   "source": [
    "glob(\"../../data/UStanceBR/v2/*.csv\")\n"
   ]
  },
  {
   "cell_type": "code",
   "execution_count": 7,
   "id": "56bede2c",
   "metadata": {
    "ExecuteTime": {
     "end_time": "2022-03-25T20:24:38.216226Z",
     "start_time": "2022-03-25T20:24:35.054531Z"
    }
   },
   "outputs": [
    {
     "name": "stderr",
     "output_type": "stream",
     "text": [
      "D:\\Anaconda3\\envs\\stance_tf2.2\\lib\\site-packages\\ipykernel_launcher.py:6: TqdmDeprecationWarning: This function will be removed in tqdm==5.0.0\n",
      "Please use `tqdm.notebook.tqdm` instead of `tqdm.tqdm_notebook`\n",
      "  \n"
     ]
    },
    {
     "data": {
      "application/vnd.jupyter.widget-view+json": {
       "model_id": "801b1dbdf7e2428ea87cb883389db1ca",
       "version_major": 2,
       "version_minor": 0
      },
      "text/plain": [
       "  0%|          | 0/12 [00:00<?, ?it/s]"
      ]
     },
     "metadata": {},
     "output_type": "display_data"
    }
   ],
   "source": [
    "pol2label = {\n",
    "    \"against\": 0,\n",
    "    \"for\": 1\n",
    "}\n",
    "\n",
    "for path in tqdm_notebook(glob(\"../../data/UStanceBR/v2/*.csv\")):\n",
    "    name = path.replace(\"/\", \"\\\\\").split(\"\\\\\")[-1]\n",
    "    df = pd.read_csv(path, sep=\";\")\n",
    "    \n",
    "    df[\"Filler\"] = 0\n",
    "    \n",
    "    df = df[cols]\n",
    "    df.columns = vast_cols\n",
    "    \n",
    "    if name.startswith(\"r2_bo\"):\n",
    "        df[\"topic_str\"] = \"bolsonaro\"\n",
    "    elif name.startswith(\"r2_lu\"):\n",
    "        df[\"topic_str\"] = \"lula\"\n",
    "    elif name.startswith(\"r2_cl\"):\n",
    "        df[\"topic_str\"] = \"cloroquina\"\n",
    "    elif name.startswith(\"r2_co\"):\n",
    "        df[\"topic_str\"] = \"coronavac\"\n",
    "    elif name.startswith(\"r2_gl\"):\n",
    "        df[\"topic_str\"] = \"globo\"\n",
    "    elif name.startswith(\"r2_ig\"):\n",
    "        df[\"topic_str\"] = \"igreja\"\n",
    "    \n",
    "    df[\"topic\"] = df[\"topic_str\"].apply(lambda x: f'[\"{x}\"]')\n",
    "    \n",
    "    def tokenize_sentence(text):\n",
    "        text = re.sub(r'[^\\w\\s]', '', text.lower())\n",
    "        return text.split()\n",
    "            \n",
    "    df[\"text\"] = df[\"text\"].apply(lambda x: '[[\"' + '\", \"'.join(tokenize_sentence(x)) + '\"]]')\n",
    "    df[\"label\"] = df[\"label\"].apply(lambda x: pol2label[x])\n",
    "#     df.reset_index(drop=True)\n",
    "#     df[\"new_id\"] = df.index\n",
    "    df.index = df[\"new_id\"]\n",
    "    \n",
    "    if \"train\" in name:\n",
    "        df_train, df_valid = train_test_split(\n",
    "            df,\n",
    "            test_size = 0.2,\n",
    "            stratify = df[\"label\"],\n",
    "            random_state = 42,\n",
    "            shuffle = True\n",
    "        )\n",
    "        \n",
    "        df_train.to_csv(f\"./data/UStanceBR/{name}\")\n",
    "        df_valid.to_csv(f\"./data/UStanceBR/{name.replace('train', 'valid')}\")\n",
    "    else:\n",
    "        df.to_csv(f\"./data/UStanceBR/{name}\")"
   ]
  },
  {
   "cell_type": "code",
   "execution_count": 8,
   "id": "347ffa59",
   "metadata": {
    "ExecuteTime": {
     "end_time": "2022-03-25T20:24:38.246597Z",
     "start_time": "2022-03-25T20:24:38.217227Z"
    }
   },
   "outputs": [
    {
     "data": {
      "text/html": [
       "<div>\n",
       "<style scoped>\n",
       "    .dataframe tbody tr th:only-of-type {\n",
       "        vertical-align: middle;\n",
       "    }\n",
       "\n",
       "    .dataframe tbody tr th {\n",
       "        vertical-align: top;\n",
       "    }\n",
       "\n",
       "    .dataframe thead th {\n",
       "        text-align: right;\n",
       "    }\n",
       "</style>\n",
       "<table border=\"1\" class=\"dataframe\">\n",
       "  <thead>\n",
       "    <tr style=\"text-align: right;\">\n",
       "      <th></th>\n",
       "      <th>author</th>\n",
       "      <th>post</th>\n",
       "      <th>ori_topic</th>\n",
       "      <th>ori_id</th>\n",
       "      <th>new_topic</th>\n",
       "      <th>label</th>\n",
       "      <th>type_idx</th>\n",
       "      <th>new_id</th>\n",
       "      <th>arc_id</th>\n",
       "      <th>text</th>\n",
       "      <th>pos_text</th>\n",
       "      <th>text_s</th>\n",
       "      <th>topic</th>\n",
       "      <th>topic_str</th>\n",
       "      <th>seen?</th>\n",
       "      <th>contains_topic?</th>\n",
       "    </tr>\n",
       "    <tr>\n",
       "      <th>new_id</th>\n",
       "      <th></th>\n",
       "      <th></th>\n",
       "      <th></th>\n",
       "      <th></th>\n",
       "      <th></th>\n",
       "      <th></th>\n",
       "      <th></th>\n",
       "      <th></th>\n",
       "      <th></th>\n",
       "      <th></th>\n",
       "      <th></th>\n",
       "      <th></th>\n",
       "      <th></th>\n",
       "      <th></th>\n",
       "      <th></th>\n",
       "      <th></th>\n",
       "    </tr>\n",
       "  </thead>\n",
       "  <tbody>\n",
       "    <tr>\n",
       "      <th>901</th>\n",
       "      <td>r2_lu_594</td>\n",
       "      <td>Claro que e. Eles são todos 17. Protesto! Pers...</td>\n",
       "      <td>r2_lu</td>\n",
       "      <td>_1199779708407369728</td>\n",
       "      <td>r2_lu</td>\n",
       "      <td>1</td>\n",
       "      <td>0</td>\n",
       "      <td>901</td>\n",
       "      <td>0</td>\n",
       "      <td>[[\"claro\", \"que\", \"e\", \"eles\", \"são\", \"todos\",...</td>\n",
       "      <td>[('claro', 'ADJ'), ('que', 'KS'), ('e.', 'N'),...</td>\n",
       "      <td>Claro que e. Eles são todos 17. Protesto! Pers...</td>\n",
       "      <td>[\"lula\"]</td>\n",
       "      <td>lula</td>\n",
       "      <td>0</td>\n",
       "      <td>0</td>\n",
       "    </tr>\n",
       "    <tr>\n",
       "      <th>547</th>\n",
       "      <td>r2_lu_953</td>\n",
       "      <td>Não entendo o uso das delações \"só contra quem...</td>\n",
       "      <td>r2_lu</td>\n",
       "      <td>_1167063225193717760</td>\n",
       "      <td>r2_lu</td>\n",
       "      <td>1</td>\n",
       "      <td>0</td>\n",
       "      <td>547</td>\n",
       "      <td>0</td>\n",
       "      <td>[[\"não\", \"entendo\", \"o\", \"uso\", \"das\", \"delaçõ...</td>\n",
       "      <td>[('não', 'ADV'), ('entendo', 'V'), ('o', 'ART'...</td>\n",
       "      <td>Não entendo o uso das delações \"só contra quem...</td>\n",
       "      <td>[\"lula\"]</td>\n",
       "      <td>lula</td>\n",
       "      <td>0</td>\n",
       "      <td>0</td>\n",
       "    </tr>\n",
       "    <tr>\n",
       "      <th>92</th>\n",
       "      <td>r2_lu_950</td>\n",
       "      <td>Vai procurar o que fazer mulher, deixa nosso P...</td>\n",
       "      <td>r2_lu</td>\n",
       "      <td>_1312151031510228992</td>\n",
       "      <td>r2_lu</td>\n",
       "      <td>0</td>\n",
       "      <td>0</td>\n",
       "      <td>92</td>\n",
       "      <td>0</td>\n",
       "      <td>[[\"vai\", \"procurar\", \"o\", \"que\", \"fazer\", \"mul...</td>\n",
       "      <td>[('@', 'NUM'), ('marinasilva', 'N'), ('vai', '...</td>\n",
       "      <td>Vai procurar o que fazer mulher, deixa nosso P...</td>\n",
       "      <td>[\"lula\"]</td>\n",
       "      <td>lula</td>\n",
       "      <td>0</td>\n",
       "      <td>0</td>\n",
       "    </tr>\n",
       "    <tr>\n",
       "      <th>487</th>\n",
       "      <td>r2_lu_221</td>\n",
       "      <td>Chora não bebe. Os petistas tem o Bandido do L...</td>\n",
       "      <td>r2_lu</td>\n",
       "      <td>_1256603521450938368</td>\n",
       "      <td>r2_lu</td>\n",
       "      <td>0</td>\n",
       "      <td>0</td>\n",
       "      <td>487</td>\n",
       "      <td>0</td>\n",
       "      <td>[[\"chora\", \"não\", \"bebe\", \"os\", \"petistas\", \"t...</td>\n",
       "      <td>[('chora', 'V'), ('não', 'ADV'), ('bebe', 'V')...</td>\n",
       "      <td>Chora não bebe. Os petistas tem o Bandido do L...</td>\n",
       "      <td>[\"lula\"]</td>\n",
       "      <td>lula</td>\n",
       "      <td>0</td>\n",
       "      <td>0</td>\n",
       "    </tr>\n",
       "    <tr>\n",
       "      <th>2372</th>\n",
       "      <td>r2_lu_1019</td>\n",
       "      <td>Vocês não sabem de nada, essa peste de Lula e ...</td>\n",
       "      <td>r2_lu</td>\n",
       "      <td>_1170745731545739264</td>\n",
       "      <td>r2_lu</td>\n",
       "      <td>0</td>\n",
       "      <td>0</td>\n",
       "      <td>2372</td>\n",
       "      <td>0</td>\n",
       "      <td>[[\"vocês\", \"não\", \"sabem\", \"de\", \"nada\", \"essa...</td>\n",
       "      <td>[('vocês', 'PROPESS'), ('não', 'ADV'), ('sabem...</td>\n",
       "      <td>Vocês não sabem de nada, essa peste de Lula e ...</td>\n",
       "      <td>[\"lula\"]</td>\n",
       "      <td>lula</td>\n",
       "      <td>0</td>\n",
       "      <td>0</td>\n",
       "    </tr>\n",
       "    <tr>\n",
       "      <th>...</th>\n",
       "      <td>...</td>\n",
       "      <td>...</td>\n",
       "      <td>...</td>\n",
       "      <td>...</td>\n",
       "      <td>...</td>\n",
       "      <td>...</td>\n",
       "      <td>...</td>\n",
       "      <td>...</td>\n",
       "      <td>...</td>\n",
       "      <td>...</td>\n",
       "      <td>...</td>\n",
       "      <td>...</td>\n",
       "      <td>...</td>\n",
       "      <td>...</td>\n",
       "      <td>...</td>\n",
       "      <td>...</td>\n",
       "    </tr>\n",
       "    <tr>\n",
       "      <th>2793</th>\n",
       "      <td>r2_lu_686</td>\n",
       "      <td>Hei Jornaleco! São rápidos para postar as \"fra...</td>\n",
       "      <td>r2_lu</td>\n",
       "      <td>_932277542559641606</td>\n",
       "      <td>r2_lu</td>\n",
       "      <td>0</td>\n",
       "      <td>0</td>\n",
       "      <td>2793</td>\n",
       "      <td>0</td>\n",
       "      <td>[[\"hei\", \"jornaleco\", \"são\", \"rápidos\", \"para\"...</td>\n",
       "      <td>[('hei', 'V'), ('jornaleco', 'ADV'), ('!', 'PU...</td>\n",
       "      <td>Hei Jornaleco! São rápidos para postar as \"fra...</td>\n",
       "      <td>[\"lula\"]</td>\n",
       "      <td>lula</td>\n",
       "      <td>0</td>\n",
       "      <td>0</td>\n",
       "    </tr>\n",
       "    <tr>\n",
       "      <th>730</th>\n",
       "      <td>r2_lu_32</td>\n",
       "      <td>Lula acaba de ser ABSOLVIDO em seu processo ma...</td>\n",
       "      <td>r2_lu</td>\n",
       "      <td>_1202413270344380416</td>\n",
       "      <td>r2_lu</td>\n",
       "      <td>1</td>\n",
       "      <td>0</td>\n",
       "      <td>730</td>\n",
       "      <td>0</td>\n",
       "      <td>[[\"lula\", \"acaba\", \"de\", \"ser\", \"absolvido\", \"...</td>\n",
       "      <td>[('lula', 'N'), ('acaba', 'V'), ('de', 'PREP')...</td>\n",
       "      <td>Lula acaba de ser ABSOLVIDO em seu processo ma...</td>\n",
       "      <td>[\"lula\"]</td>\n",
       "      <td>lula</td>\n",
       "      <td>0</td>\n",
       "      <td>0</td>\n",
       "    </tr>\n",
       "    <tr>\n",
       "      <th>4384</th>\n",
       "      <td>r2_lu_193</td>\n",
       "      <td>As promessas de campanha do Bozonaro lembra as...</td>\n",
       "      <td>r2_lu</td>\n",
       "      <td>_1033505273825185792</td>\n",
       "      <td>r2_lu</td>\n",
       "      <td>0</td>\n",
       "      <td>0</td>\n",
       "      <td>4384</td>\n",
       "      <td>0</td>\n",
       "      <td>[[\"as\", \"promessas\", \"de\", \"campanha\", \"do\", \"...</td>\n",
       "      <td>[('as', 'ART'), ('promessas', 'N'), ('de', 'PR...</td>\n",
       "      <td>As promessas de campanha do Bozonaro lembra as...</td>\n",
       "      <td>[\"lula\"]</td>\n",
       "      <td>lula</td>\n",
       "      <td>0</td>\n",
       "      <td>0</td>\n",
       "    </tr>\n",
       "    <tr>\n",
       "      <th>4619</th>\n",
       "      <td>r2_lu_686</td>\n",
       "      <td>Eita Jornaleco! Camilo Santana fez uma bondade...</td>\n",
       "      <td>r2_lu</td>\n",
       "      <td>_1154745735621021697</td>\n",
       "      <td>r2_lu</td>\n",
       "      <td>0</td>\n",
       "      <td>0</td>\n",
       "      <td>4619</td>\n",
       "      <td>0</td>\n",
       "      <td>[[\"eita\", \"jornaleco\", \"camilo\", \"santana\", \"f...</td>\n",
       "      <td>[('eita', 'IN'), ('jornaleco', 'N'), ('!', 'PU...</td>\n",
       "      <td>Eita Jornaleco! Camilo Santana fez uma bondade...</td>\n",
       "      <td>[\"lula\"]</td>\n",
       "      <td>lula</td>\n",
       "      <td>0</td>\n",
       "      <td>0</td>\n",
       "    </tr>\n",
       "    <tr>\n",
       "      <th>2818</th>\n",
       "      <td>r2_lu_288</td>\n",
       "      <td>amanhã aguardaremos o HC de Lula</td>\n",
       "      <td>r2_lu</td>\n",
       "      <td>_1143332615304486912</td>\n",
       "      <td>r2_lu</td>\n",
       "      <td>1</td>\n",
       "      <td>0</td>\n",
       "      <td>2818</td>\n",
       "      <td>0</td>\n",
       "      <td>[[\"amanhã\", \"aguardaremos\", \"o\", \"hc\", \"de\", \"...</td>\n",
       "      <td>[('@', 'NUM'), ('stf_oficial', 'N'), ('amanhã'...</td>\n",
       "      <td>amanhã aguardaremos o HC de Lula</td>\n",
       "      <td>[\"lula\"]</td>\n",
       "      <td>lula</td>\n",
       "      <td>0</td>\n",
       "      <td>0</td>\n",
       "    </tr>\n",
       "  </tbody>\n",
       "</table>\n",
       "<p>6240 rows × 16 columns</p>\n",
       "</div>"
      ],
      "text/plain": [
       "            author                                               post  \\\n",
       "new_id                                                                  \n",
       "901      r2_lu_594  Claro que e. Eles são todos 17. Protesto! Pers...   \n",
       "547      r2_lu_953  Não entendo o uso das delações \"só contra quem...   \n",
       "92       r2_lu_950  Vai procurar o que fazer mulher, deixa nosso P...   \n",
       "487      r2_lu_221  Chora não bebe. Os petistas tem o Bandido do L...   \n",
       "2372    r2_lu_1019  Vocês não sabem de nada, essa peste de Lula e ...   \n",
       "...            ...                                                ...   \n",
       "2793     r2_lu_686  Hei Jornaleco! São rápidos para postar as \"fra...   \n",
       "730       r2_lu_32  Lula acaba de ser ABSOLVIDO em seu processo ma...   \n",
       "4384     r2_lu_193  As promessas de campanha do Bozonaro lembra as...   \n",
       "4619     r2_lu_686  Eita Jornaleco! Camilo Santana fez uma bondade...   \n",
       "2818     r2_lu_288                   amanhã aguardaremos o HC de Lula   \n",
       "\n",
       "       ori_topic                ori_id new_topic  label  type_idx  new_id  \\\n",
       "new_id                                                                      \n",
       "901        r2_lu  _1199779708407369728     r2_lu      1         0     901   \n",
       "547        r2_lu  _1167063225193717760     r2_lu      1         0     547   \n",
       "92         r2_lu  _1312151031510228992     r2_lu      0         0      92   \n",
       "487        r2_lu  _1256603521450938368     r2_lu      0         0     487   \n",
       "2372       r2_lu  _1170745731545739264     r2_lu      0         0    2372   \n",
       "...          ...                   ...       ...    ...       ...     ...   \n",
       "2793       r2_lu   _932277542559641606     r2_lu      0         0    2793   \n",
       "730        r2_lu  _1202413270344380416     r2_lu      1         0     730   \n",
       "4384       r2_lu  _1033505273825185792     r2_lu      0         0    4384   \n",
       "4619       r2_lu  _1154745735621021697     r2_lu      0         0    4619   \n",
       "2818       r2_lu  _1143332615304486912     r2_lu      1         0    2818   \n",
       "\n",
       "        arc_id                                               text  \\\n",
       "new_id                                                              \n",
       "901          0  [[\"claro\", \"que\", \"e\", \"eles\", \"são\", \"todos\",...   \n",
       "547          0  [[\"não\", \"entendo\", \"o\", \"uso\", \"das\", \"delaçõ...   \n",
       "92           0  [[\"vai\", \"procurar\", \"o\", \"que\", \"fazer\", \"mul...   \n",
       "487          0  [[\"chora\", \"não\", \"bebe\", \"os\", \"petistas\", \"t...   \n",
       "2372         0  [[\"vocês\", \"não\", \"sabem\", \"de\", \"nada\", \"essa...   \n",
       "...        ...                                                ...   \n",
       "2793         0  [[\"hei\", \"jornaleco\", \"são\", \"rápidos\", \"para\"...   \n",
       "730          0  [[\"lula\", \"acaba\", \"de\", \"ser\", \"absolvido\", \"...   \n",
       "4384         0  [[\"as\", \"promessas\", \"de\", \"campanha\", \"do\", \"...   \n",
       "4619         0  [[\"eita\", \"jornaleco\", \"camilo\", \"santana\", \"f...   \n",
       "2818         0  [[\"amanhã\", \"aguardaremos\", \"o\", \"hc\", \"de\", \"...   \n",
       "\n",
       "                                                 pos_text  \\\n",
       "new_id                                                      \n",
       "901     [('claro', 'ADJ'), ('que', 'KS'), ('e.', 'N'),...   \n",
       "547     [('não', 'ADV'), ('entendo', 'V'), ('o', 'ART'...   \n",
       "92      [('@', 'NUM'), ('marinasilva', 'N'), ('vai', '...   \n",
       "487     [('chora', 'V'), ('não', 'ADV'), ('bebe', 'V')...   \n",
       "2372    [('vocês', 'PROPESS'), ('não', 'ADV'), ('sabem...   \n",
       "...                                                   ...   \n",
       "2793    [('hei', 'V'), ('jornaleco', 'ADV'), ('!', 'PU...   \n",
       "730     [('lula', 'N'), ('acaba', 'V'), ('de', 'PREP')...   \n",
       "4384    [('as', 'ART'), ('promessas', 'N'), ('de', 'PR...   \n",
       "4619    [('eita', 'IN'), ('jornaleco', 'N'), ('!', 'PU...   \n",
       "2818    [('@', 'NUM'), ('stf_oficial', 'N'), ('amanhã'...   \n",
       "\n",
       "                                                   text_s     topic topic_str  \\\n",
       "new_id                                                                          \n",
       "901     Claro que e. Eles são todos 17. Protesto! Pers...  [\"lula\"]      lula   \n",
       "547     Não entendo o uso das delações \"só contra quem...  [\"lula\"]      lula   \n",
       "92      Vai procurar o que fazer mulher, deixa nosso P...  [\"lula\"]      lula   \n",
       "487     Chora não bebe. Os petistas tem o Bandido do L...  [\"lula\"]      lula   \n",
       "2372    Vocês não sabem de nada, essa peste de Lula e ...  [\"lula\"]      lula   \n",
       "...                                                   ...       ...       ...   \n",
       "2793    Hei Jornaleco! São rápidos para postar as \"fra...  [\"lula\"]      lula   \n",
       "730     Lula acaba de ser ABSOLVIDO em seu processo ma...  [\"lula\"]      lula   \n",
       "4384    As promessas de campanha do Bozonaro lembra as...  [\"lula\"]      lula   \n",
       "4619    Eita Jornaleco! Camilo Santana fez uma bondade...  [\"lula\"]      lula   \n",
       "2818                     amanhã aguardaremos o HC de Lula  [\"lula\"]      lula   \n",
       "\n",
       "        seen?  contains_topic?  \n",
       "new_id                          \n",
       "901         0                0  \n",
       "547         0                0  \n",
       "92          0                0  \n",
       "487         0                0  \n",
       "2372        0                0  \n",
       "...       ...              ...  \n",
       "2793        0                0  \n",
       "730         0                0  \n",
       "4384        0                0  \n",
       "4619        0                0  \n",
       "2818        0                0  \n",
       "\n",
       "[6240 rows x 16 columns]"
      ]
     },
     "execution_count": 8,
     "metadata": {},
     "output_type": "execute_result"
    }
   ],
   "source": [
    "df"
   ]
  },
  {
   "cell_type": "markdown",
   "id": "6cec36a1",
   "metadata": {},
   "source": [
    "## Clustering"
   ]
  },
  {
   "cell_type": "markdown",
   "id": "18213870",
   "metadata": {},
   "source": [
    "### Saving document and topic vectors from BERT"
   ]
  },
  {
   "cell_type": "code",
   "execution_count": 43,
   "id": "11dfa4c2",
   "metadata": {
    "ExecuteTime": {
     "end_time": "2022-03-27T04:52:12.835781Z",
     "start_time": "2022-03-27T04:52:12.829773Z"
    }
   },
   "outputs": [
    {
     "name": "stdout",
     "output_type": "stream",
     "text": [
      "nohup python stance_clustering.py -m 1 -i ../../data/UStanceBR/r2_bo_train_statements.csv -d ../../data/UStanceBR/r2_bo_valid_statements.csv -e ../../data/UStanceBR/r2_bo_test_statements.csv -p ../../resources/topicreps/ustancebr -t bo_bert_topic -c bo_bert_tfidfw_doc > bo_clust_1.txt &\n",
      "nohup python stance_clustering.py -m 1 -i ../../data/UStanceBR/r2_lu_train_statements.csv -d ../../data/UStanceBR/r2_lu_valid_statements.csv -e ../../data/UStanceBR/r2_lu_test_statements.csv -p ../../resources/topicreps/ustancebr -t lu_bert_topic -c lu_bert_tfidfw_doc > lu_clust_1.txt &\n",
      "nohup python stance_clustering.py -m 1 -i ../../data/UStanceBR/r2_co_train_statements.csv -d ../../data/UStanceBR/r2_co_valid_statements.csv -e ../../data/UStanceBR/r2_co_test_statements.csv -p ../../resources/topicreps/ustancebr -t co_bert_topic -c co_bert_tfidfw_doc > co_clust_1.txt &\n",
      "nohup python stance_clustering.py -m 1 -i ../../data/UStanceBR/r2_cl_train_statements.csv -d ../../data/UStanceBR/r2_cl_valid_statements.csv -e ../../data/UStanceBR/r2_cl_test_statements.csv -p ../../resources/topicreps/ustancebr -t cl_bert_topic -c cl_bert_tfidfw_doc > cl_clust_1.txt &\n",
      "nohup python stance_clustering.py -m 1 -i ../../data/UStanceBR/r2_gl_train_statements.csv -d ../../data/UStanceBR/r2_gl_valid_statements.csv -e ../../data/UStanceBR/r2_gl_test_statements.csv -p ../../resources/topicreps/ustancebr -t gl_bert_topic -c gl_bert_tfidfw_doc > gl_clust_1.txt &\n",
      "nohup python stance_clustering.py -m 1 -i ../../data/UStanceBR/r2_ig_train_statements.csv -d ../../data/UStanceBR/r2_ig_valid_statements.csv -e ../../data/UStanceBR/r2_ig_test_statements.csv -p ../../resources/topicreps/ustancebr -t ig_bert_topic -c ig_bert_tfidfw_doc > ig_clust_1.txt &\n"
     ]
    }
   ],
   "source": [
    "for topic in [\"bo\", \"lu\", \"co\", \"cl\", \"gl\", \"ig\"]:\n",
    "    print(f\"nohup python stance_clustering.py -m 1 -i ../../data/UStanceBR/r2_{topic}_train_statements.csv -d ../../data/UStanceBR/r2_{topic}_valid_statements.csv -e ../../data/UStanceBR/r2_{topic}_test_statements.csv -p ../../resources/topicreps/ustancebr -t {topic}_bert_topic -c {topic}_bert_tfidfw_doc > {topic}_clust_1.txt &\")"
   ]
  },
  {
   "cell_type": "markdown",
   "id": "1805a985",
   "metadata": {},
   "source": [
    "### Generating generalized topic representations through clustering"
   ]
  },
  {
   "cell_type": "code",
   "execution_count": 44,
   "id": "58fe171e",
   "metadata": {
    "ExecuteTime": {
     "end_time": "2022-03-27T04:52:32.734901Z",
     "start_time": "2022-03-27T04:52:32.729914Z"
    }
   },
   "outputs": [
    {
     "name": "stdout",
     "output_type": "stream",
     "text": [
      "nohup python stance_clustering.py -m 2 -i ../../data/UStanceBR/r2_bo_train_statements.csv -d ../../data/UStanceBR/r2_bo_valid_statements.csv -p ../../resources/topicreps/ustancebr/ -f bo_bert_tfidfw -k 197 -t bo_bert_topic -c bo_bert_tfidfw_doc > bo_clust_2.txt &\n",
      "nohup python stance_clustering.py -m 2 -i ../../data/UStanceBR/r2_lu_train_statements.csv -d ../../data/UStanceBR/r2_lu_valid_statements.csv -p ../../resources/topicreps/ustancebr/ -f lu_bert_tfidfw -k 197 -t lu_bert_topic -c lu_bert_tfidfw_doc > lu_clust_2.txt &\n",
      "nohup python stance_clustering.py -m 2 -i ../../data/UStanceBR/r2_co_train_statements.csv -d ../../data/UStanceBR/r2_co_valid_statements.csv -p ../../resources/topicreps/ustancebr/ -f co_bert_tfidfw -k 197 -t co_bert_topic -c co_bert_tfidfw_doc > co_clust_2.txt &\n",
      "nohup python stance_clustering.py -m 2 -i ../../data/UStanceBR/r2_cl_train_statements.csv -d ../../data/UStanceBR/r2_cl_valid_statements.csv -p ../../resources/topicreps/ustancebr/ -f cl_bert_tfidfw -k 197 -t cl_bert_topic -c cl_bert_tfidfw_doc > cl_clust_2.txt &\n",
      "nohup python stance_clustering.py -m 2 -i ../../data/UStanceBR/r2_gl_train_statements.csv -d ../../data/UStanceBR/r2_gl_valid_statements.csv -p ../../resources/topicreps/ustancebr/ -f gl_bert_tfidfw -k 197 -t gl_bert_topic -c gl_bert_tfidfw_doc > gl_clust_2.txt &\n",
      "nohup python stance_clustering.py -m 2 -i ../../data/UStanceBR/r2_ig_train_statements.csv -d ../../data/UStanceBR/r2_ig_valid_statements.csv -p ../../resources/topicreps/ustancebr/ -f ig_bert_tfidfw -k 197 -t ig_bert_topic -c ig_bert_tfidfw_doc > ig_clust_2.txt &\n"
     ]
    }
   ],
   "source": [
    "for topic in [\"bo\", \"lu\", \"co\", \"cl\", \"gl\", \"ig\"]:\n",
    "    print(f\"nohup python stance_clustering.py -m 2 -i ../../data/UStanceBR/r2_{topic}_train_statements.csv -d ../../data/UStanceBR/r2_{topic}_valid_statements.csv -p ../../resources/topicreps/ustancebr/ -f {topic}_bert_tfidfw -k 197 -t {topic}_bert_topic -c {topic}_bert_tfidfw_doc > {topic}_clust_2.txt &\")"
   ]
  },
  {
   "cell_type": "markdown",
   "id": "786e2d9e",
   "metadata": {},
   "source": [
    "### Getting cluster assignments"
   ]
  },
  {
   "cell_type": "code",
   "execution_count": 45,
   "id": "fa89466e",
   "metadata": {
    "ExecuteTime": {
     "end_time": "2022-03-27T04:52:35.271106Z",
     "start_time": "2022-03-27T04:52:35.265445Z"
    }
   },
   "outputs": [
    {
     "name": "stdout",
     "output_type": "stream",
     "text": [
      "nohup python stance_clustering.py -m 3 -i ../../data/UStanceBR/r2_bo_train_statements.csv -d ../../data/UStanceBR/r2_bo_valid_statements.csv -e ../../data/UStanceBR/r2_bo_test_statements.csv -p ../../resources/topicreps/ustancebr -f bo_bert_tfidfw -k 197 -t bo_bert_topic -c bo_bert_tfidfw_doc > bo_clust_3.txt &\n",
      "nohup python stance_clustering.py -m 3 -i ../../data/UStanceBR/r2_lu_train_statements.csv -d ../../data/UStanceBR/r2_lu_valid_statements.csv -e ../../data/UStanceBR/r2_lu_test_statements.csv -p ../../resources/topicreps/ustancebr -f lu_bert_tfidfw -k 197 -t lu_bert_topic -c lu_bert_tfidfw_doc > lu_clust_3.txt &\n",
      "nohup python stance_clustering.py -m 3 -i ../../data/UStanceBR/r2_co_train_statements.csv -d ../../data/UStanceBR/r2_co_valid_statements.csv -e ../../data/UStanceBR/r2_co_test_statements.csv -p ../../resources/topicreps/ustancebr -f co_bert_tfidfw -k 197 -t co_bert_topic -c co_bert_tfidfw_doc > co_clust_3.txt &\n",
      "nohup python stance_clustering.py -m 3 -i ../../data/UStanceBR/r2_cl_train_statements.csv -d ../../data/UStanceBR/r2_cl_valid_statements.csv -e ../../data/UStanceBR/r2_cl_test_statements.csv -p ../../resources/topicreps/ustancebr -f cl_bert_tfidfw -k 197 -t cl_bert_topic -c cl_bert_tfidfw_doc > cl_clust_3.txt &\n",
      "nohup python stance_clustering.py -m 3 -i ../../data/UStanceBR/r2_gl_train_statements.csv -d ../../data/UStanceBR/r2_gl_valid_statements.csv -e ../../data/UStanceBR/r2_gl_test_statements.csv -p ../../resources/topicreps/ustancebr -f gl_bert_tfidfw -k 197 -t gl_bert_topic -c gl_bert_tfidfw_doc > gl_clust_3.txt &\n",
      "nohup python stance_clustering.py -m 3 -i ../../data/UStanceBR/r2_ig_train_statements.csv -d ../../data/UStanceBR/r2_ig_valid_statements.csv -e ../../data/UStanceBR/r2_ig_test_statements.csv -p ../../resources/topicreps/ustancebr -f ig_bert_tfidfw -k 197 -t ig_bert_topic -c ig_bert_tfidfw_doc > ig_clust_3.txt &\n"
     ]
    }
   ],
   "source": [
    "for topic in [\"bo\", \"lu\", \"co\", \"cl\", \"gl\", \"ig\"]:\n",
    "    print(f\"nohup python stance_clustering.py -m 3 -i ../../data/UStanceBR/r2_{topic}_train_statements.csv -d ../../data/UStanceBR/r2_{topic}_valid_statements.csv -e ../../data/UStanceBR/r2_{topic}_test_statements.csv -p ../../resources/topicreps/ustancebr -f {topic}_bert_tfidfw -k 197 -t {topic}_bert_topic -c {topic}_bert_tfidfw_doc > {topic}_clust_3.txt &\")"
   ]
  },
  {
   "cell_type": "code",
   "execution_count": 13,
   "id": "c93bd874",
   "metadata": {
    "ExecuteTime": {
     "end_time": "2022-03-15T02:49:42.949495Z",
     "start_time": "2022-03-15T02:49:40.259363Z"
    },
    "scrolled": true
   },
   "outputs": [
    {
     "name": "stderr",
     "output_type": "stream",
     "text": [
      "Traceback (most recent call last):\n",
      "  File \"./src/clustering/stance_clustering.py\", line 18, in <module>\n",
      "    import input_models as im\n",
      "ModuleNotFoundError: No module named 'input_models'\n"
     ]
    }
   ],
   "source": [
    "cd src/clustering\n",
    "\n",
    "# echo \"Saving document and topic vectors from BERT\"\n",
    "python stance_clustering.py -m 1 -i ../../data/UStanceBR/r2_bo_train_statements.csv -d ../../data/UStanceBR/r2_bo_valid_statements.csv -e ../../data/UStanceBR/r2_bo_test_statements.csv\n",
    "\n",
    "# echo1 \"Generating generalized topic representations through clustering\"\n",
    "python stance_clustering.py -m 2 -i ../../data/UStanceBR/r2_bo_train_statements.csv -d ../../data/UStanceBR/r2_bo_valid_statements.csv -p ../../resources/topicreps/ -k 197\n",
    "\n",
    "# echo \"Getting cluster assignments\"\n",
    "python stance_clustering.py -m 3 -i ../../data/UStanceBR/r2_bo_train_statements.csv -d ../../data/UStanceBR/r2_bo_valid_statements.csv -e ../../data/UStanceBR/r2_bo_test_statements.csv -p ../../resources/topicreps/ -k 197"
   ]
  },
  {
   "cell_type": "markdown",
   "id": "25fda6d2",
   "metadata": {},
   "source": [
    "## TGANet"
   ]
  },
  {
   "cell_type": "markdown",
   "id": "a61b3723",
   "metadata": {},
   "source": [
    "### Training"
   ]
  },
  {
   "cell_type": "code",
   "execution_count": 52,
   "id": "5e4148aa",
   "metadata": {
    "ExecuteTime": {
     "end_time": "2022-03-27T05:23:12.038906Z",
     "start_time": "2022-03-27T05:23:12.029911Z"
    }
   },
   "outputs": [
    {
     "name": "stdout",
     "output_type": "stream",
     "text": [
      "echo \"Training model for topic bo\"\n",
      "python train_model.py -s ../config/config-tganet_pt_bo.txt -i ../data/UStanceBR/r2_bo_train_statements.csv -d ../data/UStanceBR/r2_bo_valid_statements.csv -e 1 -p 0 -k \"f-0_macro\"\n",
      "\n",
      "echo \"Training model for topic lu\"\n",
      "python train_model.py -s ../config/config-tganet_pt_lu.txt -i ../data/UStanceBR/r2_lu_train_statements.csv -d ../data/UStanceBR/r2_lu_valid_statements.csv -e 1 -p 0 -k \"f-0_macro\"\n",
      "\n",
      "echo \"Training model for topic co\"\n",
      "python train_model.py -s ../config/config-tganet_pt_co.txt -i ../data/UStanceBR/r2_co_train_statements.csv -d ../data/UStanceBR/r2_co_valid_statements.csv -e 1 -p 0 -k \"f-0_macro\"\n",
      "\n",
      "echo \"Training model for topic cl\"\n",
      "python train_model.py -s ../config/config-tganet_pt_cl.txt -i ../data/UStanceBR/r2_cl_train_statements.csv -d ../data/UStanceBR/r2_cl_valid_statements.csv -e 1 -p 0 -k \"f-0_macro\"\n",
      "\n",
      "echo \"Training model for topic gl\"\n",
      "python train_model.py -s ../config/config-tganet_pt_gl.txt -i ../data/UStanceBR/r2_gl_train_statements.csv -d ../data/UStanceBR/r2_gl_valid_statements.csv -e 1 -p 0 -k \"f-0_macro\"\n",
      "\n",
      "echo \"Training model for topic ig\"\n",
      "python train_model.py -s ../config/config-tganet_pt_ig.txt -i ../data/UStanceBR/r2_ig_train_statements.csv -d ../data/UStanceBR/r2_ig_valid_statements.csv -e 1 -p 0 -k \"f-0_macro\"\n",
      "\n"
     ]
    }
   ],
   "source": [
    "for topic in [\"bo\", \"lu\", \"co\", \"cl\", \"gl\", \"ig\"]:\n",
    "    print(f'echo \"Training model for topic {topic}\"')\n",
    "    print(f'python train_model.py -s ../config/config-tganet_pt_{topic}.txt -i ../data/UStanceBR/r2_{topic}_train_statements.csv -d ../data/UStanceBR/r2_{topic}_valid_statements.csv -e 1 -p 0 -k \"f-0_macro\"')\n",
    "    print()"
   ]
  },
  {
   "cell_type": "markdown",
   "id": "26ea54da",
   "metadata": {},
   "source": [
    "### Evaluating"
   ]
  },
  {
   "cell_type": "markdown",
   "id": "2d2a73d7",
   "metadata": {},
   "source": [
    "#### Valid"
   ]
  },
  {
   "cell_type": "code",
   "execution_count": 51,
   "id": "925a6dc1",
   "metadata": {
    "ExecuteTime": {
     "end_time": "2022-03-27T05:23:05.330228Z",
     "start_time": "2022-03-27T05:23:05.324571Z"
    }
   },
   "outputs": [
    {
     "name": "stdout",
     "output_type": "stream",
     "text": [
      "echo \"Evaluating model for bo with validation set\"\n",
      "python eval_model.py -m \"eval\" -k BEST -s ../config/config-tganet_pt_bo.txt -i ../data/UStanceBR/r2_bo_train_statements.csv -d ../data/UStanceBR/r2_bo_valid_statements.csv\n",
      "\n",
      "echo \"Evaluating model for lu with validation set\"\n",
      "python eval_model.py -m \"eval\" -k BEST -s ../config/config-tganet_pt_lu.txt -i ../data/UStanceBR/r2_lu_train_statements.csv -d ../data/UStanceBR/r2_lu_valid_statements.csv\n",
      "\n",
      "echo \"Evaluating model for co with validation set\"\n",
      "python eval_model.py -m \"eval\" -k BEST -s ../config/config-tganet_pt_co.txt -i ../data/UStanceBR/r2_co_train_statements.csv -d ../data/UStanceBR/r2_co_valid_statements.csv\n",
      "\n",
      "echo \"Evaluating model for cl with validation set\"\n",
      "python eval_model.py -m \"eval\" -k BEST -s ../config/config-tganet_pt_cl.txt -i ../data/UStanceBR/r2_cl_train_statements.csv -d ../data/UStanceBR/r2_cl_valid_statements.csv\n",
      "\n",
      "echo \"Evaluating model for gl with validation set\"\n",
      "python eval_model.py -m \"eval\" -k BEST -s ../config/config-tganet_pt_gl.txt -i ../data/UStanceBR/r2_gl_train_statements.csv -d ../data/UStanceBR/r2_gl_valid_statements.csv\n",
      "\n",
      "echo \"Evaluating model for ig with validation set\"\n",
      "python eval_model.py -m \"eval\" -k BEST -s ../config/config-tganet_pt_ig.txt -i ../data/UStanceBR/r2_ig_train_statements.csv -d ../data/UStanceBR/r2_ig_valid_statements.csv\n",
      "\n"
     ]
    }
   ],
   "source": [
    "for topic in [\"bo\", \"lu\", \"co\", \"cl\", \"gl\", \"ig\"]:\n",
    "    print(f'echo \"Evaluating model for {topic} with validation set\"')\n",
    "    print(f'python eval_model.py -m \"eval\" -k BEST -s ../config/config-tganet_pt_{topic}.txt -i ../data/UStanceBR/r2_{topic}_train_statements.csv -d ../data/UStanceBR/r2_{topic}_valid_statements.csv')\n",
    "    print()"
   ]
  },
  {
   "cell_type": "markdown",
   "id": "bff1077c",
   "metadata": {},
   "source": [
    "#### Test"
   ]
  },
  {
   "cell_type": "code",
   "execution_count": 53,
   "id": "a7ffcc4f",
   "metadata": {
    "ExecuteTime": {
     "end_time": "2022-03-27T05:23:59.452938Z",
     "start_time": "2022-03-27T05:23:59.440969Z"
    }
   },
   "outputs": [
    {
     "name": "stdout",
     "output_type": "stream",
     "text": [
      "echo \"Evaluating model for bo with validation set\"\n",
      "python eval_model.py -m \"eval\" -k BEST -s ../config/config-tganet_pt_bo.txt -i ../data/UStanceBR/r2_bo_train_statements.csv -d ../data/UStanceBR/r2_bo_test_statements.csv\n",
      "\n",
      "echo \"Evaluating model for lu with validation set\"\n",
      "python eval_model.py -m \"eval\" -k BEST -s ../config/config-tganet_pt_lu.txt -i ../data/UStanceBR/r2_lu_train_statements.csv -d ../data/UStanceBR/r2_lu_test_statements.csv\n",
      "\n",
      "echo \"Evaluating model for co with validation set\"\n",
      "python eval_model.py -m \"eval\" -k BEST -s ../config/config-tganet_pt_co.txt -i ../data/UStanceBR/r2_co_train_statements.csv -d ../data/UStanceBR/r2_co_test_statements.csv\n",
      "\n",
      "echo \"Evaluating model for cl with validation set\"\n",
      "python eval_model.py -m \"eval\" -k BEST -s ../config/config-tganet_pt_cl.txt -i ../data/UStanceBR/r2_cl_train_statements.csv -d ../data/UStanceBR/r2_cl_test_statements.csv\n",
      "\n",
      "echo \"Evaluating model for gl with validation set\"\n",
      "python eval_model.py -m \"eval\" -k BEST -s ../config/config-tganet_pt_gl.txt -i ../data/UStanceBR/r2_gl_train_statements.csv -d ../data/UStanceBR/r2_gl_test_statements.csv\n",
      "\n",
      "echo \"Evaluating model for ig with validation set\"\n",
      "python eval_model.py -m \"eval\" -k BEST -s ../config/config-tganet_pt_ig.txt -i ../data/UStanceBR/r2_ig_train_statements.csv -d ../data/UStanceBR/r2_ig_test_statements.csv\n",
      "\n"
     ]
    }
   ],
   "source": [
    "for topic in [\"bo\", \"lu\", \"co\", \"cl\", \"gl\", \"ig\"]:\n",
    "    print(f'echo \"Evaluating model for {topic} with validation set\"')\n",
    "    print(f'python eval_model.py -m \"eval\" -k BEST -s ../config/config-tganet_pt_{topic}.txt -i ../data/UStanceBR/r2_{topic}_train_statements.csv -d ../data/UStanceBR/r2_{topic}_test_statements.csv')\n",
    "    print()"
   ]
  },
  {
   "cell_type": "markdown",
   "id": "f75e3b87",
   "metadata": {},
   "source": [
    "### Predicting"
   ]
  },
  {
   "cell_type": "markdown",
   "id": "0813755b",
   "metadata": {},
   "source": [
    "#### Valid"
   ]
  },
  {
   "cell_type": "code",
   "execution_count": 56,
   "id": "f7a15138",
   "metadata": {
    "ExecuteTime": {
     "end_time": "2022-03-27T05:34:01.798794Z",
     "start_time": "2022-03-27T05:34:01.779686Z"
    }
   },
   "outputs": [
    {
     "name": "stdout",
     "output_type": "stream",
     "text": [
      "echo \"Saving predictions from the model for bo to ../bo_pred_tganet\"\n",
      "python eval_model.py -m \"predict\" -k BEST -s ../config/config-tganet_pt_bo.txt -i ../data/UStanceBR/r2_bo_train_statements.csv -d ../data/UStanceBR/r2_bo_valid_statements.csv -o ../bo_pred_tganet\n",
      "\n",
      "echo \"Saving predictions from the model for lu to ../lu_pred_tganet\"\n",
      "python eval_model.py -m \"predict\" -k BEST -s ../config/config-tganet_pt_lu.txt -i ../data/UStanceBR/r2_lu_train_statements.csv -d ../data/UStanceBR/r2_lu_valid_statements.csv -o ../lu_pred_tganet\n",
      "\n",
      "echo \"Saving predictions from the model for co to ../co_pred_tganet\"\n",
      "python eval_model.py -m \"predict\" -k BEST -s ../config/config-tganet_pt_co.txt -i ../data/UStanceBR/r2_co_train_statements.csv -d ../data/UStanceBR/r2_co_valid_statements.csv -o ../co_pred_tganet\n",
      "\n",
      "echo \"Saving predictions from the model for cl to ../cl_pred_tganet\"\n",
      "python eval_model.py -m \"predict\" -k BEST -s ../config/config-tganet_pt_cl.txt -i ../data/UStanceBR/r2_cl_train_statements.csv -d ../data/UStanceBR/r2_cl_valid_statements.csv -o ../cl_pred_tganet\n",
      "\n",
      "echo \"Saving predictions from the model for gl to ../gl_pred_tganet\"\n",
      "python eval_model.py -m \"predict\" -k BEST -s ../config/config-tganet_pt_gl.txt -i ../data/UStanceBR/r2_gl_train_statements.csv -d ../data/UStanceBR/r2_gl_valid_statements.csv -o ../gl_pred_tganet\n",
      "\n",
      "echo \"Saving predictions from the model for ig to ../ig_pred_tganet\"\n",
      "python eval_model.py -m \"predict\" -k BEST -s ../config/config-tganet_pt_ig.txt -i ../data/UStanceBR/r2_ig_train_statements.csv -d ../data/UStanceBR/r2_ig_valid_statements.csv -o ../ig_pred_tganet\n",
      "\n"
     ]
    }
   ],
   "source": [
    "for topic in [\"bo\", \"lu\", \"co\", \"cl\", \"gl\", \"ig\"]:\n",
    "    print(f'echo \"Saving predictions from the model for {topic} to ../{topic}_pred_tganet\"')\n",
    "    print(f'python eval_model.py -m \"predict\" -k BEST -s ../config/config-tganet_pt_{topic}.txt -i ../data/UStanceBR/r2_{topic}_train_statements.csv -d ../data/UStanceBR/r2_{topic}_valid_statements.csv -o ../{topic}_pred_tganet')\n",
    "    print()"
   ]
  },
  {
   "cell_type": "markdown",
   "id": "910ac3aa",
   "metadata": {},
   "source": [
    "#### Test"
   ]
  },
  {
   "cell_type": "code",
   "execution_count": 57,
   "id": "f100cd0a",
   "metadata": {
    "ExecuteTime": {
     "end_time": "2022-03-27T05:34:06.999910Z",
     "start_time": "2022-03-27T05:34:06.989355Z"
    }
   },
   "outputs": [
    {
     "name": "stdout",
     "output_type": "stream",
     "text": [
      "echo \"Saving predictions from the model for bo to ../bo_pred_tganet\"\n",
      "python eval_model.py -m \"predict\" -k BEST -s ../config/config-tganet_pt_bo.txt -i ../data/UStanceBR/r2_bo_train_statements.csv -d ../data/UStanceBR/r2_bo_test_statements.csv -o ../bo_pred_tganet\n",
      "\n",
      "echo \"Saving predictions from the model for lu to ../lu_pred_tganet\"\n",
      "python eval_model.py -m \"predict\" -k BEST -s ../config/config-tganet_pt_lu.txt -i ../data/UStanceBR/r2_lu_train_statements.csv -d ../data/UStanceBR/r2_lu_test_statements.csv -o ../lu_pred_tganet\n",
      "\n",
      "echo \"Saving predictions from the model for co to ../co_pred_tganet\"\n",
      "python eval_model.py -m \"predict\" -k BEST -s ../config/config-tganet_pt_co.txt -i ../data/UStanceBR/r2_co_train_statements.csv -d ../data/UStanceBR/r2_co_test_statements.csv -o ../co_pred_tganet\n",
      "\n",
      "echo \"Saving predictions from the model for cl to ../cl_pred_tganet\"\n",
      "python eval_model.py -m \"predict\" -k BEST -s ../config/config-tganet_pt_cl.txt -i ../data/UStanceBR/r2_cl_train_statements.csv -d ../data/UStanceBR/r2_cl_test_statements.csv -o ../cl_pred_tganet\n",
      "\n",
      "echo \"Saving predictions from the model for gl to ../gl_pred_tganet\"\n",
      "python eval_model.py -m \"predict\" -k BEST -s ../config/config-tganet_pt_gl.txt -i ../data/UStanceBR/r2_gl_train_statements.csv -d ../data/UStanceBR/r2_gl_test_statements.csv -o ../gl_pred_tganet\n",
      "\n",
      "echo \"Saving predictions from the model for ig to ../ig_pred_tganet\"\n",
      "python eval_model.py -m \"predict\" -k BEST -s ../config/config-tganet_pt_ig.txt -i ../data/UStanceBR/r2_ig_train_statements.csv -d ../data/UStanceBR/r2_ig_test_statements.csv -o ../ig_pred_tganet\n",
      "\n"
     ]
    }
   ],
   "source": [
    "for topic in [\"bo\", \"lu\", \"co\", \"cl\", \"gl\", \"ig\"]:\n",
    "    print(f'echo \"Saving predictions from the model for {topic} to ../{topic}_pred_tganet\"')\n",
    "    print(f'python eval_model.py -m \"predict\" -k BEST -s ../config/config-tganet_pt_{topic}.txt -i ../data/UStanceBR/r2_{topic}_train_statements.csv -d ../data/UStanceBR/r2_{topic}_test_statements.csv -o ../{topic}_pred_tganet')\n",
    "    print()"
   ]
  },
  {
   "cell_type": "code",
   "execution_count": null,
   "id": "0aed6dfc",
   "metadata": {},
   "outputs": [],
   "source": []
  },
  {
   "cell_type": "code",
   "execution_count": null,
   "id": "6a15dc8b",
   "metadata": {},
   "outputs": [],
   "source": []
  },
  {
   "cell_type": "code",
   "execution_count": null,
   "id": "e96d1166",
   "metadata": {},
   "outputs": [],
   "source": [
    "cd src\n",
    "\n",
    "# training\n",
    "python train_model.py -s ../config/config-tganet_pt.txt -i ../data/UStanceBR/r2_bo_train_statements.csv -d ../data/UStanceBR/r2_bo_valid_statements.csv -e 1 -p 0 -k \"f-0_macro\"\n",
    "\n",
    "# evaluating\n",
    "python eval_model.py -m \"eval\" -k BEST -s ../config/config-tganet_pt.txt -i ../data/UStanceBR/r2_bo_train_statements.csv -d ../data/UStanceBR/r2_bo_valid_statements.csv\n",
    "python eval_model.py -m \"eval\" -k BEST -s ../config/config-tganet_pt.txt -i ../data/UStanceBR/r2_bo_train_statements.csv -d ../data/UStanceBR/r2_bo_test_statements.csv\n",
    "\n",
    "# predicting\n",
    "python eval_model.py -m \"predict\" -k BEST -s ../config/config-tganet_pt.txt -i ../data/UStanceBR/r2_bo_train_statements.csv -d ../data/UStanceBR/r2_bo_valid_statements.csv -o ../tganet_predictions_valid\n",
    "python eval_model.py -m \"predict\" -k BEST -s ../config/config-tganet_pt.txt -i ../data/UStanceBR/r2_bo_train_statements.csv -d ../data/UStanceBR/r2_bo_test_statements.csv -o ../tganet_predictions_test\n"
   ]
  },
  {
   "cell_type": "code",
   "execution_count": null,
   "id": "6d85b394",
   "metadata": {},
   "outputs": [],
   "source": []
  },
  {
   "cell_type": "code",
   "execution_count": 10,
   "id": "4388d955",
   "metadata": {
    "ExecuteTime": {
     "end_time": "2022-03-27T01:42:04.765635Z",
     "start_time": "2022-03-27T01:42:04.642755Z"
    }
   },
   "outputs": [],
   "source": [
    "df_test_pred = pd.read_csv(\"./tganet_predictions_test-test.csv\")"
   ]
  },
  {
   "cell_type": "code",
   "execution_count": 14,
   "id": "204bad8f",
   "metadata": {
    "ExecuteTime": {
     "end_time": "2022-03-27T01:42:55.057089Z",
     "start_time": "2022-03-27T01:42:55.030623Z"
    }
   },
   "outputs": [
    {
     "data": {
      "text/html": [
       "<div>\n",
       "<style scoped>\n",
       "    .dataframe tbody tr th:only-of-type {\n",
       "        vertical-align: middle;\n",
       "    }\n",
       "\n",
       "    .dataframe tbody tr th {\n",
       "        vertical-align: top;\n",
       "    }\n",
       "\n",
       "    .dataframe thead th {\n",
       "        text-align: right;\n",
       "    }\n",
       "</style>\n",
       "<table border=\"1\" class=\"dataframe\">\n",
       "  <thead>\n",
       "    <tr style=\"text-align: right;\">\n",
       "      <th></th>\n",
       "      <th>new_id</th>\n",
       "      <th>author</th>\n",
       "      <th>post</th>\n",
       "      <th>ori_topic</th>\n",
       "      <th>ori_id</th>\n",
       "      <th>new_topic</th>\n",
       "      <th>label</th>\n",
       "      <th>type_idx</th>\n",
       "      <th>new_id.1</th>\n",
       "      <th>arc_id</th>\n",
       "      <th>...</th>\n",
       "      <th>text_idx</th>\n",
       "      <th>topic_idx</th>\n",
       "      <th>text_topic_idx</th>\n",
       "      <th>token_type_ids</th>\n",
       "      <th>text_l</th>\n",
       "      <th>ori_text</th>\n",
       "      <th>topic_l</th>\n",
       "      <th>num_sens</th>\n",
       "      <th>text_mask</th>\n",
       "      <th>pred label</th>\n",
       "    </tr>\n",
       "  </thead>\n",
       "  <tbody>\n",
       "    <tr>\n",
       "      <th>0</th>\n",
       "      <td>2450</td>\n",
       "      <td>r2_bo_375</td>\n",
       "      <td>queria dar um tiro no bolsonaro pra cada palav...</td>\n",
       "      <td>r2_bo</td>\n",
       "      <td>_1056681041879023616</td>\n",
       "      <td>r2_bo</td>\n",
       "      <td>0</td>\n",
       "      <td>0</td>\n",
       "      <td>2450</td>\n",
       "      <td>0</td>\n",
       "      <td>...</td>\n",
       "      <td>[10861, 4360, 18243, 8529, 14841, 3217, 2053, ...</td>\n",
       "      <td>[100, 0, 0, 0, 0]</td>\n",
       "      <td>[101, 10861, 4360, 18243, 8529, 14841, 3217, 2...</td>\n",
       "      <td>[0, 0, 0, 0, 0, 0, 0, 0, 0, 0, 0, 0, 0, 0, 0, ...</td>\n",
       "      <td>0</td>\n",
       "      <td>queria dar um tiro no bolsonaro pra cada palav...</td>\n",
       "      <td>0</td>\n",
       "      <td>1</td>\n",
       "      <td>[]</td>\n",
       "      <td>0</td>\n",
       "    </tr>\n",
       "    <tr>\n",
       "      <th>1</th>\n",
       "      <td>3149</td>\n",
       "      <td>r2_bo_723</td>\n",
       "      <td>A verdade precisa ser dita. Confiamos em você,...</td>\n",
       "      <td>r2_bo</td>\n",
       "      <td>_1242991026609979393</td>\n",
       "      <td>r2_bo</td>\n",
       "      <td>1</td>\n",
       "      <td>0</td>\n",
       "      <td>3149</td>\n",
       "      <td>0</td>\n",
       "      <td>...</td>\n",
       "      <td>[1037, 2310, 13639, 3207, 3653, 22987, 2050, 1...</td>\n",
       "      <td>[100, 0, 0, 0, 0]</td>\n",
       "      <td>[101, 1037, 2310, 13639, 3207, 3653, 22987, 20...</td>\n",
       "      <td>[0, 0, 0, 0, 0, 0, 0, 0, 0, 0, 0, 0, 0, 0, 0, ...</td>\n",
       "      <td>0</td>\n",
       "      <td>A verdade precisa ser dita. Confiamos em você,...</td>\n",
       "      <td>0</td>\n",
       "      <td>1</td>\n",
       "      <td>[]</td>\n",
       "      <td>1</td>\n",
       "    </tr>\n",
       "    <tr>\n",
       "      <th>2</th>\n",
       "      <td>112</td>\n",
       "      <td>r2_bo_123</td>\n",
       "      <td>verme escroto, os eleitores de Bolsonaro não a...</td>\n",
       "      <td>r2_bo</td>\n",
       "      <td>_1263965924052344834</td>\n",
       "      <td>r2_bo</td>\n",
       "      <td>1</td>\n",
       "      <td>0</td>\n",
       "      <td>112</td>\n",
       "      <td>0</td>\n",
       "      <td>...</td>\n",
       "      <td>[2310, 10867, 2063, 9686, 26775, 11439, 1010, ...</td>\n",
       "      <td>[100, 0, 0, 0, 0]</td>\n",
       "      <td>[101, 2310, 10867, 2063, 9686, 26775, 11439, 1...</td>\n",
       "      <td>[0, 0, 0, 0, 0, 0, 0, 0, 0, 0, 0, 0, 0, 0, 0, ...</td>\n",
       "      <td>0</td>\n",
       "      <td>verme escroto, os eleitores de Bolsonaro não a...</td>\n",
       "      <td>0</td>\n",
       "      <td>1</td>\n",
       "      <td>[]</td>\n",
       "      <td>1</td>\n",
       "    </tr>\n",
       "    <tr>\n",
       "      <th>3</th>\n",
       "      <td>4265</td>\n",
       "      <td>r2_bo_459</td>\n",
       "      <td>quem lembra quando o Bolsonaro deu o primeiro ...</td>\n",
       "      <td>r2_bo</td>\n",
       "      <td>_1261762646426169344</td>\n",
       "      <td>r2_bo</td>\n",
       "      <td>0</td>\n",
       "      <td>0</td>\n",
       "      <td>4265</td>\n",
       "      <td>0</td>\n",
       "      <td>...</td>\n",
       "      <td>[10861, 2213, 3393, 14905, 2527, 24110, 3527, ...</td>\n",
       "      <td>[100, 0, 0, 0, 0]</td>\n",
       "      <td>[101, 10861, 2213, 3393, 14905, 2527, 24110, 3...</td>\n",
       "      <td>[0, 0, 0, 0, 0, 0, 0, 0, 0, 0, 0, 0, 0, 0, 0, ...</td>\n",
       "      <td>0</td>\n",
       "      <td>quem lembra quando o Bolsonaro deu o primeiro ...</td>\n",
       "      <td>0</td>\n",
       "      <td>1</td>\n",
       "      <td>[]</td>\n",
       "      <td>0</td>\n",
       "    </tr>\n",
       "    <tr>\n",
       "      <th>4</th>\n",
       "      <td>1701</td>\n",
       "      <td>r2_bo_283</td>\n",
       "      <td>Só vou votar no Bolsonaro pro Pablo Vittar sai...</td>\n",
       "      <td>r2_bo</td>\n",
       "      <td>_916694248698806277</td>\n",
       "      <td>r2_bo</td>\n",
       "      <td>1</td>\n",
       "      <td>0</td>\n",
       "      <td>1701</td>\n",
       "      <td>0</td>\n",
       "      <td>...</td>\n",
       "      <td>[2061, 29536, 2226, 29536, 7559, 2053, 8945, 1...</td>\n",
       "      <td>[100, 0, 0, 0, 0]</td>\n",
       "      <td>[101, 2061, 29536, 2226, 29536, 7559, 2053, 89...</td>\n",
       "      <td>[0, 0, 0, 0, 0, 0, 0, 0, 0, 0, 0, 0, 0, 0, 0, ...</td>\n",
       "      <td>0</td>\n",
       "      <td>Só vou votar no Bolsonaro pro Pablo Vittar sai...</td>\n",
       "      <td>0</td>\n",
       "      <td>1</td>\n",
       "      <td>[]</td>\n",
       "      <td>1</td>\n",
       "    </tr>\n",
       "  </tbody>\n",
       "</table>\n",
       "<p>5 rows × 27 columns</p>\n",
       "</div>"
      ],
      "text/plain": [
       "   new_id     author                                               post  \\\n",
       "0    2450  r2_bo_375  queria dar um tiro no bolsonaro pra cada palav...   \n",
       "1    3149  r2_bo_723  A verdade precisa ser dita. Confiamos em você,...   \n",
       "2     112  r2_bo_123  verme escroto, os eleitores de Bolsonaro não a...   \n",
       "3    4265  r2_bo_459  quem lembra quando o Bolsonaro deu o primeiro ...   \n",
       "4    1701  r2_bo_283  Só vou votar no Bolsonaro pro Pablo Vittar sai...   \n",
       "\n",
       "  ori_topic                ori_id new_topic  label  type_idx  new_id.1  \\\n",
       "0     r2_bo  _1056681041879023616     r2_bo      0         0      2450   \n",
       "1     r2_bo  _1242991026609979393     r2_bo      1         0      3149   \n",
       "2     r2_bo  _1263965924052344834     r2_bo      1         0       112   \n",
       "3     r2_bo  _1261762646426169344     r2_bo      0         0      4265   \n",
       "4     r2_bo   _916694248698806277     r2_bo      1         0      1701   \n",
       "\n",
       "   arc_id  ...                                           text_idx  \\\n",
       "0       0  ...  [10861, 4360, 18243, 8529, 14841, 3217, 2053, ...   \n",
       "1       0  ...  [1037, 2310, 13639, 3207, 3653, 22987, 2050, 1...   \n",
       "2       0  ...  [2310, 10867, 2063, 9686, 26775, 11439, 1010, ...   \n",
       "3       0  ...  [10861, 2213, 3393, 14905, 2527, 24110, 3527, ...   \n",
       "4       0  ...  [2061, 29536, 2226, 29536, 7559, 2053, 8945, 1...   \n",
       "\n",
       "           topic_idx                                     text_topic_idx  \\\n",
       "0  [100, 0, 0, 0, 0]  [101, 10861, 4360, 18243, 8529, 14841, 3217, 2...   \n",
       "1  [100, 0, 0, 0, 0]  [101, 1037, 2310, 13639, 3207, 3653, 22987, 20...   \n",
       "2  [100, 0, 0, 0, 0]  [101, 2310, 10867, 2063, 9686, 26775, 11439, 1...   \n",
       "3  [100, 0, 0, 0, 0]  [101, 10861, 2213, 3393, 14905, 2527, 24110, 3...   \n",
       "4  [100, 0, 0, 0, 0]  [101, 2061, 29536, 2226, 29536, 7559, 2053, 89...   \n",
       "\n",
       "                                      token_type_ids text_l  \\\n",
       "0  [0, 0, 0, 0, 0, 0, 0, 0, 0, 0, 0, 0, 0, 0, 0, ...      0   \n",
       "1  [0, 0, 0, 0, 0, 0, 0, 0, 0, 0, 0, 0, 0, 0, 0, ...      0   \n",
       "2  [0, 0, 0, 0, 0, 0, 0, 0, 0, 0, 0, 0, 0, 0, 0, ...      0   \n",
       "3  [0, 0, 0, 0, 0, 0, 0, 0, 0, 0, 0, 0, 0, 0, 0, ...      0   \n",
       "4  [0, 0, 0, 0, 0, 0, 0, 0, 0, 0, 0, 0, 0, 0, 0, ...      0   \n",
       "\n",
       "                                            ori_text  topic_l num_sens  \\\n",
       "0  queria dar um tiro no bolsonaro pra cada palav...        0        1   \n",
       "1  A verdade precisa ser dita. Confiamos em você,...        0        1   \n",
       "2  verme escroto, os eleitores de Bolsonaro não a...        0        1   \n",
       "3  quem lembra quando o Bolsonaro deu o primeiro ...        0        1   \n",
       "4  Só vou votar no Bolsonaro pro Pablo Vittar sai...        0        1   \n",
       "\n",
       "  text_mask pred label  \n",
       "0        []          0  \n",
       "1        []          1  \n",
       "2        []          1  \n",
       "3        []          0  \n",
       "4        []          1  \n",
       "\n",
       "[5 rows x 27 columns]"
      ]
     },
     "execution_count": 14,
     "metadata": {},
     "output_type": "execute_result"
    }
   ],
   "source": [
    "df_test_pred.head()"
   ]
  },
  {
   "cell_type": "code",
   "execution_count": 12,
   "id": "cc64769c",
   "metadata": {
    "ExecuteTime": {
     "end_time": "2022-03-27T01:42:49.709582Z",
     "start_time": "2022-03-27T01:42:49.702759Z"
    }
   },
   "outputs": [],
   "source": [
    "from sklearn.metrics import f1_score, confusion_matrix"
   ]
  },
  {
   "cell_type": "code",
   "execution_count": 15,
   "id": "ee9b252a",
   "metadata": {
    "ExecuteTime": {
     "end_time": "2022-03-27T01:43:50.618902Z",
     "start_time": "2022-03-27T01:43:50.615910Z"
    }
   },
   "outputs": [],
   "source": [
    "y_true = df_test_pred[\"label\"]\n",
    "y_pred = df_test_pred[\"pred label\"]"
   ]
  },
  {
   "cell_type": "code",
   "execution_count": 16,
   "id": "2d96166a",
   "metadata": {
    "ExecuteTime": {
     "end_time": "2022-03-27T01:44:02.877972Z",
     "start_time": "2022-03-27T01:44:02.810806Z"
    }
   },
   "outputs": [
    {
     "data": {
      "text/plain": [
       "array([[1204,  188],\n",
       "       [ 504,  458]], dtype=int64)"
      ]
     },
     "execution_count": 16,
     "metadata": {},
     "output_type": "execute_result"
    }
   ],
   "source": [
    "confusion_matrix(y_true, y_pred)"
   ]
  },
  {
   "cell_type": "code",
   "execution_count": 22,
   "id": "aa57b0cc",
   "metadata": {
    "ExecuteTime": {
     "end_time": "2022-03-27T01:46:19.285260Z",
     "start_time": "2022-03-27T01:46:19.264726Z"
    }
   },
   "outputs": [
    {
     "data": {
      "text/plain": [
       "(0.5696517412935324, array([0.77677419, 0.56965174]))"
      ]
     },
     "execution_count": 22,
     "metadata": {},
     "output_type": "execute_result"
    }
   ],
   "source": [
    "(f1_score(y_true, y_pred), \n",
    "f1_score(y_true, y_pred, average=None))"
   ]
  },
  {
   "cell_type": "code",
   "execution_count": null,
   "id": "227d96db",
   "metadata": {},
   "outputs": [],
   "source": []
  }
 ],
 "metadata": {
  "kernelspec": {
   "display_name": "Python [conda env:stance_tf2.2]",
   "language": "python",
   "name": "conda-env-stance_tf2.2-py"
  },
  "language_info": {
   "codemirror_mode": {
    "name": "ipython",
    "version": 3
   },
   "file_extension": ".py",
   "mimetype": "text/x-python",
   "name": "python",
   "nbconvert_exporter": "python",
   "pygments_lexer": "ipython3",
   "version": "3.7.10"
  },
  "toc": {
   "base_numbering": 1,
   "nav_menu": {},
   "number_sections": true,
   "sideBar": true,
   "skip_h1_title": false,
   "title_cell": "Table of Contents",
   "title_sidebar": "Contents",
   "toc_cell": false,
   "toc_position": {},
   "toc_section_display": true,
   "toc_window_display": false
  }
 },
 "nbformat": 4,
 "nbformat_minor": 5
}
